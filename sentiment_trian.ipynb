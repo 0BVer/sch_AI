{
  "nbformat": 4,
  "nbformat_minor": 0,
  "metadata": {
    "colab": {
      "name": "sentiment_trian.ipynb",
      "provenance": [],
      "mount_file_id": "1db79q1yTPISDLfV4M9dTUwFtV5_730hR",
      "authorship_tag": "ABX9TyM3xnCu9OV5e72aldgbof8x",
      "include_colab_link": true
    },
    "kernelspec": {
      "name": "python3",
      "display_name": "Python 3"
    },
    "language_info": {
      "name": "python"
    }
  },
  "cells": [
    {
      "cell_type": "markdown",
      "metadata": {
        "id": "view-in-github",
        "colab_type": "text"
      },
      "source": [
        "<a href=\"https://colab.research.google.com/github/0BVer/sch_AI/blob/main/sentiment_trian.ipynb\" target=\"_parent\"><img src=\"https://colab.research.google.com/assets/colab-badge.svg\" alt=\"Open In Colab\"/></a>"
      ]
    },
    {
      "cell_type": "code",
      "source": [
        "import pandas as pd"
      ],
      "metadata": {
        "id": "mjGpuZXuFJ24"
      },
      "execution_count": 12,
      "outputs": []
    },
    {
      "cell_type": "code",
      "source": [
        "df = pd.read_csv(\"/content/drive/MyDrive/Colab Notebooks/data/Reviews.csv\")\n",
        "df = df[df['Score'] != 3]\n",
        "df['sentiment'] = df['Score'].apply(lambda rating : 'positive' if rating > 3 else 'negative')\n",
        "review_df1 = df[['Text', 'sentiment']]"
      ],
      "metadata": {
        "id": "7nCssDAuEBKW"
      },
      "execution_count": 7,
      "outputs": []
    },
    {
      "cell_type": "code",
      "source": [
        "print(review_df1)"
      ],
      "metadata": {
        "colab": {
          "base_uri": "https://localhost:8080/"
        },
        "id": "qDDsg6x6F1GJ",
        "outputId": "0aa907aa-1b81-4791-e9ba-cfefe143be59"
      },
      "execution_count": 26,
      "outputs": [
        {
          "output_type": "stream",
          "name": "stdout",
          "text": [
            "                                                     Text sentiment\n",
            "0       I have bought several of the Vitality canned d...  positive\n",
            "1       Product arrived labeled as Jumbo Salted Peanut...  negative\n",
            "2       This is a confection that has been around a fe...  positive\n",
            "3       If you are looking for the secret ingredient i...  negative\n",
            "4       Great taffy at a great price.  There was a wid...  positive\n",
            "...                                                   ...       ...\n",
            "568449  Great for sesame chicken..this is a good if no...  positive\n",
            "568450  I'm disappointed with the flavor. The chocolat...  negative\n",
            "568451  These stars are small, so you can give 10-15 o...  positive\n",
            "568452  These are the BEST treats for training and rew...  positive\n",
            "568453  I am very satisfied ,product is as advertised,...  positive\n",
            "\n",
            "[525814 rows x 2 columns]\n"
          ]
        }
      ]
    },
    {
      "cell_type": "code",
      "execution_count": 22,
      "metadata": {
        "id": "B2AFdcZNByIt"
      },
      "outputs": [],
      "source": [
        "df = pd.read_csv(\"/content/drive/MyDrive/Colab Notebooks/data/Tweets.csv\")\n",
        "review_df2 = df[['text', 'airline_sentiment']]\n",
        "review_df2 = review_df2[review_df2['airline_sentiment'] != 'neutral']\n",
        "review_df2.columns = [\"Text\", \"sentiment\"]"
      ]
    },
    {
      "cell_type": "code",
      "source": [
        "print(review_df2)"
      ],
      "metadata": {
        "colab": {
          "base_uri": "https://localhost:8080/"
        },
        "id": "zWfHUsZhGlRY",
        "outputId": "cb37859d-01a5-4e0a-a31c-6be9583228eb"
      },
      "execution_count": 27,
      "outputs": [
        {
          "output_type": "stream",
          "name": "stdout",
          "text": [
            "                                                    Text sentiment\n",
            "1      @VirginAmerica plus you've added commercials t...  positive\n",
            "3      @VirginAmerica it's really aggressive to blast...  negative\n",
            "4      @VirginAmerica and it's a really big bad thing...  negative\n",
            "5      @VirginAmerica seriously would pay $30 a fligh...  negative\n",
            "6      @VirginAmerica yes, nearly every time I fly VX...  positive\n",
            "...                                                  ...       ...\n",
            "14633  @AmericanAir my flight was Cancelled Flightled...  negative\n",
            "14634         @AmericanAir right on cue with the delays👌  negative\n",
            "14635  @AmericanAir thank you we got on a different f...  positive\n",
            "14636  @AmericanAir leaving over 20 minutes Late Flig...  negative\n",
            "14638  @AmericanAir you have my money, you change my ...  negative\n",
            "\n",
            "[11541 rows x 2 columns]\n"
          ]
        }
      ]
    },
    {
      "cell_type": "code",
      "source": [
        "review_df = pd.concat([review_df1, review_df2], ignore_index = True)\n",
        "sentiment_label = review_df.sentiment.factorize()\n",
        "test_sets = review_df.Text.values"
      ],
      "metadata": {
        "id": "n_hXrvLMGlMI"
      },
      "execution_count": 23,
      "outputs": []
    },
    {
      "cell_type": "code",
      "source": [
        "print(review_df)"
      ],
      "metadata": {
        "colab": {
          "base_uri": "https://localhost:8080/"
        },
        "id": "RqItZ18xHaeo",
        "outputId": "4b9631eb-114a-4c43-863b-a68c65b8343c"
      },
      "execution_count": 24,
      "outputs": [
        {
          "output_type": "stream",
          "name": "stdout",
          "text": [
            "                                                     Text sentiment\n",
            "0       I have bought several of the Vitality canned d...  positive\n",
            "1       Product arrived labeled as Jumbo Salted Peanut...  negative\n",
            "2       This is a confection that has been around a fe...  positive\n",
            "3       If you are looking for the secret ingredient i...  negative\n",
            "4       Great taffy at a great price.  There was a wid...  positive\n",
            "...                                                   ...       ...\n",
            "537350  @AmericanAir my flight was Cancelled Flightled...  negative\n",
            "537351         @AmericanAir right on cue with the delays👌  negative\n",
            "537352  @AmericanAir thank you we got on a different f...  positive\n",
            "537353  @AmericanAir leaving over 20 minutes Late Flig...  negative\n",
            "537354  @AmericanAir you have my money, you change my ...  negative\n",
            "\n",
            "[537355 rows x 2 columns]\n"
          ]
        }
      ]
    },
    {
      "cell_type": "code",
      "source": [
        "from tensorflow.keras.preprocessing.text import Tokenizer\n",
        "tokenizer = Tokenizer(num_words=20000)\n",
        "tokenizer.fit_on_texts(test_sets)"
      ],
      "metadata": {
        "id": "6VcIzZKvIaVE"
      },
      "execution_count": 28,
      "outputs": []
    },
    {
      "cell_type": "code",
      "source": [
        "encoded_docs = tokenizer.texts_to_sequences(test_sets)"
      ],
      "metadata": {
        "id": "jIVnbWDGJQ5a"
      },
      "execution_count": 29,
      "outputs": []
    },
    {
      "cell_type": "code",
      "source": [
        "from tensorflow.keras.preprocessing.sequence import pad_sequences\n",
        "padded_sequence = pad_sequences(encoded_docs, maxlen = 200)\n",
        "print(padded_sequence)"
      ],
      "metadata": {
        "colab": {
          "base_uri": "https://localhost:8080/"
        },
        "id": "-t5ibNVUJ_lz",
        "outputId": "dea69c8d-c18e-49ae-ba54-98837fa6caa8"
      },
      "execution_count": 30,
      "outputs": [
        {
          "output_type": "stream",
          "name": "stdout",
          "text": [
            "[[    0     0     0 ...   101    58   141]\n",
            " [    0     0     0 ...    38    24  5778]\n",
            " [    0     0     0 ...     5     1 13888]\n",
            " ...\n",
            " [    0     0     0 ...  1161     5  4306]\n",
            " [    0     0     0 ...   751   753 19091]\n",
            " [    0     0     0 ...    96    13  8104]]\n"
          ]
        }
      ]
    },
    {
      "cell_type": "code",
      "source": [
        "from tensorflow.keras.models import Sequential\n",
        "from tensorflow.keras.layers import LSTM, Dense,Dropout, SpatialDropout1D\n",
        "from tensorflow.keras.layers import Embedding\n",
        "\n",
        "vocab_size=len(tokenizer.word_index)+1\n",
        "embeding_vector_length = 32\n",
        "model = Sequential()\n",
        "model.add(Embedding(vocab_size, embeding_vector_length, input_length=200))\n",
        "model.add(SpatialDropout1D(0.25))\n",
        "model.add(LSTM(50, dropout=0.5, recurrent_dropout=0.5))\n",
        "model.add(Dropout(0.2))\n",
        "model.add(Dense(1, activation='sigmoid'))\n",
        "model.compile(loss = 'binary_crossentropy', optimizer = 'adam', metrics = ['accuracy'])\n",
        "model.summary()"
      ],
      "metadata": {
        "colab": {
          "base_uri": "https://localhost:8080/"
        },
        "id": "vxQu9_ArHnoL",
        "outputId": "c1bcdedb-ba28-4f38-f87a-a8350e43bc7f"
      },
      "execution_count": 31,
      "outputs": [
        {
          "output_type": "stream",
          "name": "stdout",
          "text": [
            "Model: \"sequential\"\n",
            "_________________________________________________________________\n",
            " Layer (type)                Output Shape              Param #   \n",
            "=================================================================\n",
            " embedding (Embedding)       (None, 200, 32)           4231168   \n",
            "                                                                 \n",
            " spatial_dropout1d (SpatialD  (None, 200, 32)          0         \n",
            " ropout1D)                                                       \n",
            "                                                                 \n",
            " lstm (LSTM)                 (None, 50)                16600     \n",
            "                                                                 \n",
            " dropout (Dropout)           (None, 50)                0         \n",
            "                                                                 \n",
            " dense (Dense)               (None, 1)                 51        \n",
            "                                                                 \n",
            "=================================================================\n",
            "Total params: 4,247,819\n",
            "Trainable params: 4,247,819\n",
            "Non-trainable params: 0\n",
            "_________________________________________________________________\n"
          ]
        }
      ]
    },
    {
      "cell_type": "code",
      "source": [
        "history = model.fit(padded_sequence, sentiment_label[0], validation_split=0.2, epochs=1, batch_size=512)"
      ],
      "metadata": {
        "colab": {
          "base_uri": "https://localhost:8080/"
        },
        "id": "oD50lbR6LR1Y",
        "outputId": "e146d516-235e-460f-f369-273800595c3d"
      },
      "execution_count": 32,
      "outputs": [
        {
          "output_type": "stream",
          "name": "stdout",
          "text": [
            "840/840 [==============================] - 1459s 2s/step - loss: 0.2302 - accuracy: 0.9112 - val_loss: 0.2680 - val_accuracy: 0.8879\n"
          ]
        }
      ]
    },
    {
      "cell_type": "code",
      "source": [
        "epochs=6\n",
        "batch_size = 64\n",
        "history = model.fit(padded_sequence, sentiment_label[0], validation_split=0.2, epochs=epochs, batch_size=batch_size)\n",
        "model.save('trained_model(epoch='+str(epochs)+'batch_size='+str(batch_size)+'h5')"
      ],
      "metadata": {
        "colab": {
          "base_uri": "https://localhost:8080/"
        },
        "id": "sfJN8YrSLl3f",
        "outputId": "53332259-ff1f-4cca-8a02-50b1c547c9a1"
      },
      "execution_count": 33,
      "outputs": [
        {
          "output_type": "stream",
          "name": "stdout",
          "text": [
            "Epoch 1/6\n",
            "6717/6717 [==============================] - 2361s 352ms/step - loss: 0.1689 - accuracy: 0.9356 - val_loss: 0.2445 - val_accuracy: 0.8999\n",
            "Epoch 2/6\n",
            "6717/6717 [==============================] - 2440s 363ms/step - loss: 0.1366 - accuracy: 0.9486 - val_loss: 0.2640 - val_accuracy: 0.9046\n",
            "Epoch 3/6\n",
            "6717/6717 [==============================] - 2550s 380ms/step - loss: 0.1183 - accuracy: 0.9561 - val_loss: 0.2737 - val_accuracy: 0.9040\n",
            "Epoch 4/6\n",
            "6717/6717 [==============================] - 2521s 375ms/step - loss: 0.1073 - accuracy: 0.9606 - val_loss: 0.2944 - val_accuracy: 0.9027\n",
            "Epoch 5/6\n",
            "6717/6717 [==============================] - 2517s 375ms/step - loss: 0.0992 - accuracy: 0.9638 - val_loss: 0.2585 - val_accuracy: 0.9112\n",
            "Epoch 6/6\n",
            "6717/6717 [==============================] - 2524s 376ms/step - loss: 0.0935 - accuracy: 0.9661 - val_loss: 0.2675 - val_accuracy: 0.9133\n",
            "INFO:tensorflow:Assets written to: trained_model(epoch=6batch_size=64h5/assets\n"
          ]
        },
        {
          "output_type": "stream",
          "name": "stderr",
          "text": [
            "WARNING:absl:<keras.layers.recurrent.LSTMCell object at 0x7f0f5ebee410> has the same name 'LSTMCell' as a built-in Keras object. Consider renaming <class 'keras.layers.recurrent.LSTMCell'> to avoid naming conflicts when loading with `tf.keras.models.load_model`. If renaming is not possible, pass the object in the `custom_objects` parameter of the load function.\n"
          ]
        }
      ]
    },
    {
      "cell_type": "code",
      "source": [
        ""
      ],
      "metadata": {
        "id": "dqk0oVCZNhSU"
      },
      "execution_count": null,
      "outputs": []
    }
  ]
}