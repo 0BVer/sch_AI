{
 "cells": [
  {
   "cell_type": "markdown",
   "id": "a02ae060-2acb-42b4-88a4-ad5c9467d8e5",
   "metadata": {},
   "source": [
    "# 단순 홀드 아웃 검증"
   ]
  },
  {
   "cell_type": "code",
   "execution_count": null,
   "id": "c057a882-bc9f-476b-9e64-d352db31d0d3",
   "metadata": {},
   "outputs": [],
   "source": [
    "num_validation_samples = 10000\n",
    "\n",
    "np.random.shuffle(data)\n",
    "\n",
    "validation_data = data[:num_validation_samples]\n",
    "data = data[num_validation_samples:]\n",
    "\n",
    "training_data = data[:]\n",
    "\n",
    "#훈련 데이터로 먼저 훈련하고 검증 데이터로 확인함\n",
    "model = get_model()\n",
    "model.train(training_data)\n",
    "validatioon_score  model.eevaluate(validation_data)"
   ]
  },
  {
   "cell_type": "code",
   "execution_count": null,
   "id": "1d12a569-3e49-4ce4-891b-a44d4ce83519",
   "metadata": {},
   "outputs": [],
   "source": [
    "#모델이 정해지면 모든 데이터로 훈련하고, 테스트 데이터로 확인\n",
    "model = get_model()\n",
    "model.train(np.concatenate([training_data, validation_data]))\n",
    "test_score = model.evaluate(test_data)"
   ]
  },
  {
   "cell_type": "markdown",
   "id": "ba6aa892-b756-4264-b45a-3e0d85c27d17",
   "metadata": {},
   "source": [
    "# K-겹 교차 검증"
   ]
  },
  {
   "cell_type": "code",
   "execution_count": null,
   "id": "54110377-6d68-4f27-a169-f64b79bb6a92",
   "metadata": {},
   "outputs": [],
   "source": [
    "k = 4 #K 개로 데이터를 분할\n",
    "num_val_samples = len(train_data) // k\n",
    "\n",
    "np.random.shuffle(data)\n",
    "\n",
    "for fold in range(k):\n",
    "    #K 개 중 하나를 검증 셋으로 사용\n",
    "    val_data = train_data[fold * num_val_samples : (fold + 1) * num_val_samples]\n",
    "    val_targets = train_targets[fold * num_val_samples : (fold + 1) * num_val_samples]\n",
    "    \n",
    "    #K-1 개의 분할을 훈련 셋으로 사용\n",
    "    partial_train_data = np.concatenate(\n",
    "        [train_data[:fold * num_val_samples],\n",
    "         train_data[(fold + 1) * num_val_samples:]],\n",
    "        axis = 0)\n",
    "    partial_train_targets = np.concatenate(\n",
    "        [train_targets[:fold * num_val_samples],\n",
    "         train_targets[(fold + 1) * num_val_samples:]],\n",
    "        axis = 0)\n",
    "    \n",
    "    model = get_model()\n",
    "    model.fit(partial_train_data, partial_train_targets,\n",
    "              epochs = num_epochs, batch_size = 1, verbose = 0)\n",
    "    \n",
    "    #검증 데이터의 결과 점수를 평균낼 용도로 저장\n",
    "    val_mse, val_mae = model.evaluate(val_data, val_targets, verbose = 0)\n",
    "    all_scores.append(val_mae)"
   ]
  }
 ],
 "metadata": {
  "kernelspec": {
   "display_name": "Python 3 (ipykernel)",
   "language": "python",
   "name": "python3"
  },
  "language_info": {
   "codemirror_mode": {
    "name": "ipython",
    "version": 3
   },
   "file_extension": ".py",
   "mimetype": "text/x-python",
   "name": "python",
   "nbconvert_exporter": "python",
   "pygments_lexer": "ipython3",
   "version": "3.7.0"
  }
 },
 "nbformat": 4,
 "nbformat_minor": 5
}
