{
 "cells": [
  {
   "cell_type": "code",
   "execution_count": 1,
   "id": "b6fb6540-c431-470d-8880-79f47be5b3c1",
   "metadata": {},
   "outputs": [],
   "source": [
    "import tensorflow\n",
    "from tensorflow.keras.datasets import imdb"
   ]
  },
  {
   "cell_type": "markdown",
   "id": "5a05090b-2c17-4b73-bb7f-4ad962525a1e",
   "metadata": {},
   "source": [
    "데이터 불러오기"
   ]
  },
  {
   "cell_type": "code",
   "execution_count": 2,
   "id": "4d65435b-a67e-41bb-8096-665411bfec17",
   "metadata": {},
   "outputs": [],
   "source": [
    "(train_data, train_labels), (test_data, test_lables) = imdb.load_data(num_words=10000)"
   ]
  },
  {
   "cell_type": "code",
   "execution_count": 3,
   "id": "a1af218b-e156-4bef-b0dc-8a9f88bfdb27",
   "metadata": {},
   "outputs": [
    {
     "data": {
      "text/plain": [
       "9999"
      ]
     },
     "execution_count": 3,
     "metadata": {},
     "output_type": "execute_result"
    }
   ],
   "source": [
    "max([max(sequence) for sequence in train_data])"
   ]
  },
  {
   "cell_type": "markdown",
   "id": "51494e2d-1246-49d7-ab43-e8c8848a013c",
   "metadata": {},
   "source": [
    "직접 원핫인코딩 하기"
   ]
  },
  {
   "cell_type": "code",
   "execution_count": 4,
   "id": "02dce854-4d3c-4f9f-a16c-a6676fa59108",
   "metadata": {},
   "outputs": [],
   "source": [
    "import numpy as np\n",
    "def vectorize_sequence(sequences, dimension=10000):\n",
    "    results = np.zeros((len(sequences), dimension))\n",
    "    for i, sequence in enumerate(sequences):\n",
    "        results[i, sequence] = 1\n",
    "    return results\n",
    "\n",
    "x_train = vectorize_sequence(train_data)\n",
    "x_test = vectorize_sequence(test_data)\n",
    "y_train = np.asarray(train_labels).astype('float32')\n",
    "y_test = np.asarray(train_labels).astype('float32')"
   ]
  },
  {
   "cell_type": "code",
   "execution_count": 5,
   "id": "bc35841a-ecd2-424f-96f6-f01589252281",
   "metadata": {},
   "outputs": [
    {
     "data": {
      "text/plain": [
       "(25000, 10000)"
      ]
     },
     "execution_count": 5,
     "metadata": {},
     "output_type": "execute_result"
    }
   ],
   "source": [
    "x_train.shape"
   ]
  },
  {
   "cell_type": "markdown",
   "id": "b1084f43-703b-4d62-9fa2-01ed3a71cb47",
   "metadata": {},
   "source": [
    "모델 구성하기"
   ]
  },
  {
   "cell_type": "code",
   "execution_count": 6,
   "id": "9056af96-bf51-4a1e-92fb-991b42b498ba",
   "metadata": {},
   "outputs": [],
   "source": [
    "from tensorflow.keras import models, layers, Sequential\n",
    "\n",
    "model = models.Sequential()\n",
    "model.add(layers.Dense(16, activation = 'relu', input_shape=(10000,)))\n",
    "model.add(layers.Dense(16, activation = 'relu'))\n",
    "model.add(layers.Dense(1, activation = 'sigmoid'))\n",
    "\n",
    "# model.summary()"
   ]
  },
  {
   "cell_type": "markdown",
   "id": "3f6fca41-da21-4974-a8d7-e220c8f32997",
   "metadata": {},
   "source": [
    "모델 컴파일 하기"
   ]
  },
  {
   "cell_type": "code",
   "execution_count": 7,
   "id": "7b804425-9874-4bd0-b1fd-61283960b60a",
   "metadata": {},
   "outputs": [],
   "source": [
    "model.compile(optimizer = 'rmsprop', \n",
    "              loss = 'binary_crossentropy', \n",
    "              metrics = ['accuracy'])"
   ]
  },
  {
   "cell_type": "markdown",
   "id": "c97fe1b7-4b06-4e6b-a2d6-f290a28be929",
   "metadata": {},
   "source": [
    "validation set 설정"
   ]
  },
  {
   "cell_type": "code",
   "execution_count": 8,
   "id": "daf24e0c-076a-4b47-a7a7-c29d6d22945f",
   "metadata": {},
   "outputs": [],
   "source": [
    "x_val = x_train[:10000]\n",
    "partial_x_train = x_train[10000:]\n",
    "y_val = y_train[:10000]\n",
    "partial_y_train = y_train[10000:]"
   ]
  },
  {
   "cell_type": "markdown",
   "id": "2d4c02aa-029c-4836-ba32-fd1b4d90e806",
   "metadata": {},
   "source": [
    "훈련"
   ]
  },
  {
   "cell_type": "code",
   "execution_count": 9,
   "id": "aaf67574-d6e1-4a1d-8719-c3448ab8cdad",
   "metadata": {
    "scrolled": true,
    "tags": []
   },
   "outputs": [
    {
     "name": "stdout",
     "output_type": "stream",
     "text": [
      "Epoch 1/20\n",
      "30/30 [==============================] - 1s 43ms/step - loss: 0.5010 - accuracy: 0.7875 - val_loss: 0.3789 - val_accuracy: 0.8655\n",
      "Epoch 2/20\n",
      "30/30 [==============================] - 0s 16ms/step - loss: 0.2969 - accuracy: 0.9047 - val_loss: 0.3044 - val_accuracy: 0.8846\n",
      "Epoch 3/20\n",
      "30/30 [==============================] - 0s 16ms/step - loss: 0.2234 - accuracy: 0.9265 - val_loss: 0.2807 - val_accuracy: 0.8893\n",
      "Epoch 4/20\n",
      "30/30 [==============================] - 1s 21ms/step - loss: 0.1747 - accuracy: 0.9445 - val_loss: 0.2869 - val_accuracy: 0.8823\n",
      "Epoch 5/20\n",
      "30/30 [==============================] - 1s 19ms/step - loss: 0.1468 - accuracy: 0.9517 - val_loss: 0.2806 - val_accuracy: 0.8871\n",
      "Epoch 6/20\n",
      "30/30 [==============================] - 0s 16ms/step - loss: 0.1200 - accuracy: 0.9629 - val_loss: 0.2962 - val_accuracy: 0.8837\n",
      "Epoch 7/20\n",
      "30/30 [==============================] - 0s 16ms/step - loss: 0.1008 - accuracy: 0.9701 - val_loss: 0.3287 - val_accuracy: 0.8758\n",
      "Epoch 8/20\n",
      "30/30 [==============================] - 0s 16ms/step - loss: 0.0852 - accuracy: 0.9747 - val_loss: 0.3332 - val_accuracy: 0.8775\n",
      "Epoch 9/20\n",
      "30/30 [==============================] - 1s 26ms/step - loss: 0.0696 - accuracy: 0.9818 - val_loss: 0.3606 - val_accuracy: 0.8724\n",
      "Epoch 10/20\n",
      "30/30 [==============================] - 1s 23ms/step - loss: 0.0567 - accuracy: 0.9863 - val_loss: 0.3830 - val_accuracy: 0.8780\n",
      "Epoch 11/20\n",
      "30/30 [==============================] - 1s 24ms/step - loss: 0.0493 - accuracy: 0.9871 - val_loss: 0.4087 - val_accuracy: 0.8744\n",
      "Epoch 12/20\n",
      "30/30 [==============================] - 1s 28ms/step - loss: 0.0380 - accuracy: 0.9913 - val_loss: 0.4286 - val_accuracy: 0.8742\n",
      "Epoch 13/20\n",
      "30/30 [==============================] - 1s 18ms/step - loss: 0.0306 - accuracy: 0.9937 - val_loss: 0.4615 - val_accuracy: 0.8730\n",
      "Epoch 14/20\n",
      "30/30 [==============================] - 1s 20ms/step - loss: 0.0265 - accuracy: 0.9952 - val_loss: 0.5030 - val_accuracy: 0.8662\n",
      "Epoch 15/20\n",
      "30/30 [==============================] - 1s 18ms/step - loss: 0.0208 - accuracy: 0.9968 - val_loss: 0.5221 - val_accuracy: 0.8682\n",
      "Epoch 16/20\n",
      "30/30 [==============================] - 1s 18ms/step - loss: 0.0174 - accuracy: 0.9973 - val_loss: 0.5532 - val_accuracy: 0.8690\n",
      "Epoch 17/20\n",
      "30/30 [==============================] - 1s 17ms/step - loss: 0.0121 - accuracy: 0.9991 - val_loss: 0.5853 - val_accuracy: 0.8692\n",
      "Epoch 18/20\n",
      "30/30 [==============================] - 1s 18ms/step - loss: 0.0109 - accuracy: 0.9989 - val_loss: 0.6330 - val_accuracy: 0.8611\n",
      "Epoch 19/20\n",
      "30/30 [==============================] - 1s 18ms/step - loss: 0.0072 - accuracy: 0.9997 - val_loss: 0.6915 - val_accuracy: 0.8634\n",
      "Epoch 20/20\n",
      "30/30 [==============================] - 1s 17ms/step - loss: 0.0089 - accuracy: 0.9988 - val_loss: 0.6989 - val_accuracy: 0.8646\n"
     ]
    }
   ],
   "source": [
    "history = model.fit(partial_x_train,\n",
    "                   partial_y_train,\n",
    "                   epochs = 20,\n",
    "                   batch_size = 512,\n",
    "                   validation_data = (x_val, y_val))"
   ]
  },
  {
   "cell_type": "markdown",
   "id": "f0a730ba-f073-4892-9d29-f60a644ea653",
   "metadata": {},
   "source": [
    "결과 시각화"
   ]
  },
  {
   "cell_type": "code",
   "execution_count": 10,
   "id": "9812f352-4eee-458e-be8c-92353e9c0b74",
   "metadata": {},
   "outputs": [
    {
     "data": {
      "text/plain": [
       "dict_keys(['loss', 'accuracy', 'val_loss', 'val_accuracy'])"
      ]
     },
     "execution_count": 10,
     "metadata": {},
     "output_type": "execute_result"
    }
   ],
   "source": [
    "history_dict = history.history\n",
    "history_dict.keys()"
   ]
  },
  {
   "cell_type": "markdown",
   "id": "890c66ef-0cd9-4f4e-a587-8d5c3fca4768",
   "metadata": {},
   "source": [
    "### 과적합 방지를 위해 Dropout(0.5)를 추가해서 학습"
   ]
  },
  {
   "cell_type": "code",
   "execution_count": 11,
   "id": "8e60e484-14a9-418e-a6d6-159e67eecf80",
   "metadata": {
    "scrolled": true,
    "tags": []
   },
   "outputs": [
    {
     "name": "stdout",
     "output_type": "stream",
     "text": [
      "Epoch 1/20\n",
      "49/49 [==============================] - 1s 23ms/step - loss: 0.6000 - accuracy: 0.6767 - val_loss: 0.4349 - val_accuracy: 0.8807\n",
      "Epoch 2/20\n",
      "49/49 [==============================] - 1s 19ms/step - loss: 0.4470 - accuracy: 0.8129 - val_loss: 0.2864 - val_accuracy: 0.9125\n",
      "Epoch 3/20\n",
      "49/49 [==============================] - 1s 19ms/step - loss: 0.3539 - accuracy: 0.8662 - val_loss: 0.2217 - val_accuracy: 0.9304\n",
      "Epoch 4/20\n",
      "49/49 [==============================] - 1s 15ms/step - loss: 0.2971 - accuracy: 0.8936 - val_loss: 0.1875 - val_accuracy: 0.9379\n",
      "Epoch 5/20\n",
      "49/49 [==============================] - 1s 16ms/step - loss: 0.2578 - accuracy: 0.9111 - val_loss: 0.1557 - val_accuracy: 0.9494\n",
      "Epoch 6/20\n",
      "49/49 [==============================] - 1s 15ms/step - loss: 0.2259 - accuracy: 0.9220 - val_loss: 0.1337 - val_accuracy: 0.9552\n",
      "Epoch 7/20\n",
      "49/49 [==============================] - 1s 14ms/step - loss: 0.2071 - accuracy: 0.9307 - val_loss: 0.1184 - val_accuracy: 0.9642\n",
      "Epoch 8/20\n",
      "49/49 [==============================] - 1s 14ms/step - loss: 0.1882 - accuracy: 0.9366 - val_loss: 0.1021 - val_accuracy: 0.9684\n",
      "Epoch 9/20\n",
      "49/49 [==============================] - 1s 15ms/step - loss: 0.1701 - accuracy: 0.9431 - val_loss: 0.1047 - val_accuracy: 0.9627\n",
      "Epoch 10/20\n",
      "49/49 [==============================] - 1s 15ms/step - loss: 0.1544 - accuracy: 0.9499 - val_loss: 0.0821 - val_accuracy: 0.9744\n",
      "Epoch 11/20\n",
      "49/49 [==============================] - 1s 15ms/step - loss: 0.1474 - accuracy: 0.9516 - val_loss: 0.0759 - val_accuracy: 0.9776\n",
      "Epoch 12/20\n",
      "49/49 [==============================] - 1s 15ms/step - loss: 0.1407 - accuracy: 0.9546 - val_loss: 0.0723 - val_accuracy: 0.9809\n",
      "Epoch 13/20\n",
      "49/49 [==============================] - 1s 15ms/step - loss: 0.1309 - accuracy: 0.9569 - val_loss: 0.0681 - val_accuracy: 0.9803\n",
      "Epoch 14/20\n",
      "49/49 [==============================] - 1s 15ms/step - loss: 0.1256 - accuracy: 0.9580 - val_loss: 0.0618 - val_accuracy: 0.9838\n",
      "Epoch 15/20\n",
      "49/49 [==============================] - 1s 15ms/step - loss: 0.1235 - accuracy: 0.9618 - val_loss: 0.0584 - val_accuracy: 0.9844\n",
      "Epoch 16/20\n",
      "49/49 [==============================] - 1s 15ms/step - loss: 0.1179 - accuracy: 0.9622 - val_loss: 0.0553 - val_accuracy: 0.9848\n",
      "Epoch 17/20\n",
      "49/49 [==============================] - 1s 14ms/step - loss: 0.1143 - accuracy: 0.9619 - val_loss: 0.0524 - val_accuracy: 0.9860\n",
      "Epoch 18/20\n",
      "49/49 [==============================] - 1s 15ms/step - loss: 0.1159 - accuracy: 0.9622 - val_loss: 0.0513 - val_accuracy: 0.9860\n",
      "Epoch 19/20\n",
      "49/49 [==============================] - 1s 15ms/step - loss: 0.1088 - accuracy: 0.9656 - val_loss: 0.0494 - val_accuracy: 0.9858\n",
      "Epoch 20/20\n",
      "49/49 [==============================] - 1s 13ms/step - loss: 0.1064 - accuracy: 0.9662 - val_loss: 0.0460 - val_accuracy: 0.9877\n"
     ]
    }
   ],
   "source": [
    "model = models.Sequential()\n",
    "model.add(layers.Dense(16, activation = 'relu', input_shape=(10000,)))\n",
    "model.add(layers.Dropout(0.5))\n",
    "model.add(layers.Dense(16, activation = 'relu'))\n",
    "model.add(layers.Dropout(0.5))\n",
    "model.add(layers.Dense(1, activation = 'sigmoid'))\n",
    "\n",
    "model.compile(optimizer = 'rmsprop', \n",
    "              loss = 'binary_crossentropy', \n",
    "              metrics = ['accuracy'])\n",
    "\n",
    "dropout_history = model.fit(x_train,\n",
    "                   y_train,\n",
    "                   epochs = 20,\n",
    "                   batch_size = 512,\n",
    "                    validation_data = (x_val, y_val))\n"
   ]
  },
  {
   "cell_type": "markdown",
   "id": "39ccea98-a225-403c-a842-ed7b9403a5ea",
   "metadata": {},
   "source": [
    "### 드롭아웃이 모델에 끼치는 영향"
   ]
  },
  {
   "cell_type": "code",
   "execution_count": 12,
   "id": "5d650790-c6ab-438a-9385-7b9bc640b656",
   "metadata": {},
   "outputs": [
    {
     "data": {
      "image/png": "[encoded data removed]",
      "text/plain": [
       "<Figure size 432x288 with 1 Axes>"
      ]
     },
     "metadata": {
      "needs_background": "light"
     },
     "output_type": "display_data"
    }
   ],
   "source": [
    "import matplotlib.pyplot as plt\n",
    "\n",
    "history_dict = history.history\n",
    "loss = history_dict['loss']\n",
    "val_loss = history_dict['val_loss']\n",
    "\n",
    "dropout_history_dict = dropout_history.history\n",
    "dropout_loss = dropout_history_dict['loss']\n",
    "dropout_val_loss = dropout_history_dict['val_loss']\n",
    "\n",
    "epochs = range(1, len(loss) + 1)\n",
    "\n",
    "plt.plot(epochs, loss, 'bo', label = 'Training loss')\n",
    "plt.plot(epochs, val_loss, 'b', label = 'Validation loss')\n",
    "\n",
    "plt.plot(epochs, dropout_loss, 'ro', label = 'dropout_Training loss')\n",
    "plt.plot(epochs, dropout_val_loss, 'r', label = 'dropout_Validation loss')\n",
    "\n",
    "plt.title('Training and validation loss')\n",
    "plt.xlabel('Epochs')\n",
    "plt.ylabel('Loss')\n",
    "plt.legend()\n",
    "plt.show()"
   ]
  },
  {
   "cell_type": "code",
   "execution_count": 13,
   "id": "7794307c-b7f5-4470-ad56-95ea2181e7b4",
   "metadata": {
    "tags": []
   },
   "outputs": [
    {
     "data": {
      "image/png": "[encoded data removed]",
      "text/plain": [
       "<Figure size 432x288 with 1 Axes>"
      ]
     },
     "metadata": {
      "needs_background": "light"
     },
     "output_type": "display_data"
    }
   ],
   "source": [
    "import matplotlib.pyplot as plt\n",
    "\n",
    "history_dict = history.history\n",
    "acc = history_dict['accuracy']\n",
    "val_acc = history_dict['val_accuracy']\n",
    "\n",
    "dropout_history_dict = dropout_history.history\n",
    "dropout_acc = dropout_history_dict['accuracy']\n",
    "dropout_val_acc = dropout_history_dict['val_accuracy']\n",
    "\n",
    "epochs = range(1, len(loss) + 1)\n",
    "\n",
    "plt.plot(epochs, acc, 'bo', label = 'Training acc')\n",
    "plt.plot(epochs, val_acc, 'b', label = 'Validation acc')\n",
    "\n",
    "plt.plot(epochs, dropout_acc, 'ro', label = 'dropout_Training acc')\n",
    "plt.plot(epochs, dropout_val_acc, 'r', label = 'dropout_Validation acc')\n",
    "\n",
    "plt.title('Training and validation loss')\n",
    "plt.xlabel('Epochs')\n",
    "plt.ylabel('Loss')\n",
    "plt.legend()\n",
    "plt.show()"
   ]
  }
 ],
 "metadata": {
  "kernelspec": {
   "display_name": "Python 3 (ipykernel)",
   "language": "python",
   "name": "python3"
  },
  "language_info": {
   "codemirror_mode": {
    "name": "ipython",
    "version": 3
   },
   "file_extension": ".py",
   "mimetype": "text/x-python",
   "name": "python",
   "nbconvert_exporter": "python",
   "pygments_lexer": "ipython3",
   "version": "3.7.0"
  }
 },
 "nbformat": 4,
 "nbformat_minor": 5
}
