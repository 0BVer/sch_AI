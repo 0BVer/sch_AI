{
  "nbformat": 4,
  "nbformat_minor": 0,
  "metadata": {
    "colab": {
      "name": "dog_cat.ipyn",
      "provenance": [],
      "collapsed_sections": [],
      "include_colab_link": true
    },
    "kernelspec": {
      "display_name": "Python 3 (ipykernel)",
      "language": "python",
      "name": "python3"
    },
    "language_info": {
      "codemirror_mode": {
        "name": "ipython",
        "version": 3
      },
      "file_extension": ".py",
      "mimetype": "text/x-python",
      "name": "python",
      "nbconvert_exporter": "python",
      "pygments_lexer": "ipython3",
      "version": "3.7.0"
    }
  },
  "cells": [
    {
      "cell_type": "markdown",
      "metadata": {
        "id": "view-in-github",
        "colab_type": "text"
      },
      "source": [
        "<a href=\"https://colab.research.google.com/github/0BVer/sch_AI/blob/main/dog_cat_ipyn.ipynb\" target=\"_parent\"><img src=\"https://colab.research.google.com/assets/colab-badge.svg\" alt=\"Open In Colab\"/></a>"
      ]
    },
    {
      "cell_type": "code",
      "metadata": {
        "id": "bM6U-DYZHC3x"
      },
      "source": [
        "#import\n",
        "#python 3.7 version\n",
        "#tensorflow 2.3 version\n",
        "import tensorflow as tf\n",
        "from tensorflow.keras.models import Model\n",
        "from tensorflow.keras.layers import GlobalAveragePooling2D, Dense\n",
        "from tensorflow.keras.optimizers import Adam\n",
        "\n",
        "from tensorflow.keras.applications import inception_v3\n",
        "\n",
        "#tensorflow image processing\n",
        "from tensorflow.keras.preprocessing.image import ImageDataGenerator\n",
        "from tensorflow.keras.preprocessing.image import img_to_array\n",
        "from tensorflow.keras.preprocessing.image import load_img\n",
        "\n",
        "#make callback to get valiable metrics\n",
        "from tensorflow.keras.callbacks import Callback\n",
        "from sklearn.metrics import (f1_score, precision_score, recall_score)\n",
        "\n",
        "\n",
        "#from collections import Counter\n",
        "import itertools\n",
        "import numpy as np \n",
        "import pandas as pd\n",
        "\n",
        "from PIL import Image, ImageFile\n",
        "ImageFile.LOAD_TRUNCATED_IMAGES = True\n",
        "\n",
        "#make chart to visulaize\n",
        "import matplotlib.pyplot as plt\n",
        "\n",
        "#ignore error code, it`s not recommend at editing\n",
        "import warnings\n",
        "warnings.filterwarnings('ignore')\n",
        "\n",
        "import os"
      ],
      "execution_count": null,
      "outputs": []
    },
    {
      "cell_type": "code",
      "source": [
        "!wget --no-check-certificate \\\n",
        "https://storage.googleapis.com/mledu-datasets/cats_and_dogs_filtered.zip \\\n",
        "-O /tmp/cats_and_dogs_filtered.zip"
      ],
      "metadata": {
        "colab": {
          "base_uri": "https://localhost:8080/"
        },
        "id": "gWeD3ygxhXQ8",
        "outputId": "d272d93a-1046-48c3-8012-63081da862b7"
      },
      "execution_count": null,
      "outputs": [
        {
          "output_type": "stream",
          "name": "stdout",
          "text": [
            "--2021-12-24 09:04:05--  https://storage.googleapis.com/mledu-datasets/cats_and_dogs_filtered.zip\n",
            "Resolving storage.googleapis.com (storage.googleapis.com)... 74.125.124.128, 172.217.212.128, 172.217.214.128, ...\n",
            "Connecting to storage.googleapis.com (storage.googleapis.com)|74.125.124.128|:443... connected.\n",
            "HTTP request sent, awaiting response... 200 OK\n",
            "Length: 68606236 (65M) [application/zip]\n",
            "Saving to: ‘/tmp/cats_and_dogs_filtered.zip’\n",
            "\n",
            "/tmp/cats_and_dogs_ 100%[===================>]  65.43M   188MB/s    in 0.3s    \n",
            "\n",
            "2021-12-24 09:04:06 (188 MB/s) - ‘/tmp/cats_and_dogs_filtered.zip’ saved [68606236/68606236]\n",
            "\n"
          ]
        }
      ]
    },
    {
      "cell_type": "code",
      "source": [
        "import os\n",
        "import zipfile\n",
        "\n",
        "local_zip = '/tmp/cats_and_dogs_filtered.zip'\n",
        "\n",
        "zip_ref = zipfile.ZipFile(local_zip, 'r')\n",
        "\n",
        "zip_ref.extractall('/tmp')\n",
        "zip_ref.close()"
      ],
      "metadata": {
        "id": "Ud1QWwFIiQ8s"
      },
      "execution_count": null,
      "outputs": []
    },
    {
      "cell_type": "code",
      "metadata": {
        "id": "SMYsUgL8F2kB"
      },
      "source": [
        "tf.config.run_functions_eagerly(True)"
      ],
      "execution_count": null,
      "outputs": []
    },
    {
      "cell_type": "code",
      "metadata": {
        "scrolled": true,
        "tags": [],
        "colab": {
          "base_uri": "https://localhost:8080/"
        },
        "id": "LrH6xFziF2kB",
        "outputId": "0ae4b7db-dda9-4b9d-ac9e-f7dbe3253d1e"
      },
      "source": [
        "from tensorflow.python.client import device_lib\n",
        "print(device_lib.list_local_devices())"
      ],
      "execution_count": null,
      "outputs": [
        {
          "output_type": "stream",
          "name": "stdout",
          "text": [
            "[name: \"/device:CPU:0\"\n",
            "device_type: \"CPU\"\n",
            "memory_limit: 268435456\n",
            "locality {\n",
            "}\n",
            "incarnation: 2144840285026332215\n",
            "xla_global_id: -1\n",
            "]\n"
          ]
        }
      ]
    },
    {
      "cell_type": "code",
      "source": [
        "# 기본 경로\n",
        "base_dir = '/tmp/cats_and_dogs_filtered'\n",
        "\n",
        "train_dir = os.path.join(base_dir, 'train')\n",
        "validation_dir = os.path.join(base_dir, 'validation')\n",
        "\n",
        "# 훈련에 사용되는 고양이/개 이미지 경로\n",
        "train_cats_dir = os.path.join(train_dir, 'cats')\n",
        "train_dogs_dir = os.path.join(train_dir, 'dogs')\n",
        "print(train_cats_dir)\n",
        "print(train_dogs_dir)\n",
        "\n",
        "# 테스트에 사용되는 고양이/개 이미지 경로\n",
        "validation_cats_dir = os.path.join(validation_dir, 'cats')\n",
        "validation_dogs_dir = os.path.join(validation_dir, 'dogs')\n",
        "print(validation_cats_dir)\n",
        "print(validation_dogs_dir)"
      ],
      "metadata": {
        "colab": {
          "base_uri": "https://localhost:8080/"
        },
        "id": "O9Lz2E7rsXl0",
        "outputId": "ed8d6975-48ec-4d36-fd3a-9e956d4245dd"
      },
      "execution_count": null,
      "outputs": [
        {
          "output_type": "stream",
          "name": "stdout",
          "text": [
            "/tmp/cats_and_dogs_filtered/train/cats\n",
            "/tmp/cats_and_dogs_filtered/train/dogs\n",
            "/tmp/cats_and_dogs_filtered/validation/cats\n",
            "/tmp/cats_and_dogs_filtered/validation/dogs\n"
          ]
        }
      ]
    },
    {
      "cell_type": "code",
      "source": [
        "from tensorflow.keras.preprocessing.image import ImageDataGenerator\n",
        "\n",
        "\n",
        "train_datagen = ImageDataGenerator( rescale = 1.0/255. )\n",
        "test_datagen  = ImageDataGenerator( rescale = 1.0/255. )\n",
        "\n",
        "train_generator = train_datagen.flow_from_directory(train_dir,\n",
        "                                                  batch_size=20,\n",
        "                                                  class_mode='binary',\n",
        "                                                  target_size=(100, 100))\n",
        "validation_generator =  test_datagen.flow_from_directory(validation_dir,\n",
        "                                                       batch_size=20,\n",
        "                                                       class_mode  = 'binary',\n",
        "                                                       target_size = (100, 100))"
      ],
      "metadata": {
        "colab": {
          "base_uri": "https://localhost:8080/"
        },
        "id": "0nYdFXDszi1u",
        "outputId": "934a89e0-0bd3-4f6e-b30e-d03fde447393"
      },
      "execution_count": null,
      "outputs": [
        {
          "output_type": "stream",
          "name": "stdout",
          "text": [
            "Found 2000 images belonging to 2 classes.\n",
            "Found 1000 images belonging to 2 classes.\n"
          ]
        }
      ]
    },
    {
      "cell_type": "code",
      "metadata": {
        "id": "sRnF42ofF2kG"
      },
      "source": [
        "from tensorflow.python.keras.engine.input_layer import InputLayer\n",
        "base_model = tf.keras.applications.InceptionV3(include_top=False,\n",
        "                                                weights='imagenet', input_shape=(100, 100, 3))\n",
        "new_input = base_model.input\n",
        "\n",
        "x = base_model.output\n",
        "x = GlobalAveragePooling2D()(x)\n",
        "x = Dense(64, activation='relu')(x)\n",
        "predictions = Dense(1, activation='sigmoid')(x)\n",
        "\n",
        "model = tf.keras.Model(new_input, predictions)\n",
        "\n",
        "for layer in base_model.layers:\n",
        "    layer.trainable = False\n",
        "\n",
        "model.compile(Adam(lr=.0001), loss='binary_crossentropy', metrics=['accuracy'])"
      ],
      "execution_count": null,
      "outputs": []
    },
    {
      "cell_type": "code",
      "metadata": {
        "tags": [],
        "id": "5Wsm9Ch8F2kG",
        "colab": {
          "base_uri": "https://localhost:8080/"
        },
        "outputId": "137cdb51-77da-400b-dfd7-53116a473b74"
      },
      "source": [
        "from tensorflow.keras.callbacks import ModelCheckpoint, ReduceLROnPlateau\n",
        "\n",
        "epochs = 20\n",
        "history = model.fit_generator(\n",
        "    generator = train_generator,\n",
        "    steps_per_epoch = len(train_generator),\n",
        "    validation_data = validation_generator,\n",
        "    validation_steps = len(validation_generator),\n",
        "    epochs = epochs\n",
        ")"
      ],
      "execution_count": null,
      "outputs": [
        {
          "output_type": "stream",
          "name": "stdout",
          "text": [
            "Epoch 1/20\n",
            "100/100 [==============================] - 302s 3s/step - loss: 0.5477 - accuracy: 0.7085 - val_loss: 0.4786 - val_accuracy: 0.7700\n",
            "Epoch 2/20\n",
            "100/100 [==============================] - 281s 3s/step - loss: 0.3584 - accuracy: 0.8355 - val_loss: 0.4329 - val_accuracy: 0.7940\n",
            "Epoch 3/20\n",
            "100/100 [==============================] - 295s 3s/step - loss: 0.3013 - accuracy: 0.8655 - val_loss: 0.4145 - val_accuracy: 0.8030\n",
            "Epoch 4/20\n",
            "100/100 [==============================] - 279s 3s/step - loss: 0.2620 - accuracy: 0.8910 - val_loss: 0.3982 - val_accuracy: 0.8170\n",
            "Epoch 5/20\n",
            "100/100 [==============================] - 292s 3s/step - loss: 0.2353 - accuracy: 0.9060 - val_loss: 0.3940 - val_accuracy: 0.8230\n",
            "Epoch 6/20\n",
            "100/100 [==============================] - 278s 3s/step - loss: 0.2101 - accuracy: 0.9220 - val_loss: 0.4189 - val_accuracy: 0.8110\n",
            "Epoch 7/20\n",
            "100/100 [==============================] - 276s 3s/step - loss: 0.1908 - accuracy: 0.9355 - val_loss: 0.3932 - val_accuracy: 0.8240\n",
            "Epoch 8/20\n",
            "100/100 [==============================] - 291s 3s/step - loss: 0.1725 - accuracy: 0.9445 - val_loss: 0.3997 - val_accuracy: 0.8220\n",
            "Epoch 9/20\n",
            "100/100 [==============================] - 291s 3s/step - loss: 0.1577 - accuracy: 0.9510 - val_loss: 0.4001 - val_accuracy: 0.8180\n",
            "Epoch 10/20\n",
            "100/100 [==============================] - 275s 3s/step - loss: 0.1424 - accuracy: 0.9625 - val_loss: 0.4099 - val_accuracy: 0.8210\n",
            "Epoch 11/20\n",
            "100/100 [==============================] - 292s 3s/step - loss: 0.1312 - accuracy: 0.9680 - val_loss: 0.4060 - val_accuracy: 0.8150\n",
            "Epoch 12/20\n",
            "100/100 [==============================] - 292s 3s/step - loss: 0.1190 - accuracy: 0.9710 - val_loss: 0.4075 - val_accuracy: 0.8210\n",
            "Epoch 13/20\n",
            "100/100 [==============================] - 277s 3s/step - loss: 0.1089 - accuracy: 0.9795 - val_loss: 0.4103 - val_accuracy: 0.8240\n",
            "Epoch 14/20\n",
            "100/100 [==============================] - 292s 3s/step - loss: 0.0993 - accuracy: 0.9815 - val_loss: 0.4175 - val_accuracy: 0.8290\n",
            "Epoch 15/20\n",
            "100/100 [==============================] - 277s 3s/step - loss: 0.0929 - accuracy: 0.9840 - val_loss: 0.4155 - val_accuracy: 0.8210\n",
            "Epoch 16/20\n",
            "100/100 [==============================] - 276s 3s/step - loss: 0.0838 - accuracy: 0.9875 - val_loss: 0.4274 - val_accuracy: 0.8220\n",
            "Epoch 17/20\n",
            "100/100 [==============================] - 276s 3s/step - loss: 0.0767 - accuracy: 0.9880 - val_loss: 0.4246 - val_accuracy: 0.8220\n",
            "Epoch 18/20\n",
            "100/100 [==============================] - 275s 3s/step - loss: 0.0690 - accuracy: 0.9920 - val_loss: 0.4322 - val_accuracy: 0.8250\n",
            "Epoch 19/20\n",
            "100/100 [==============================] - 277s 3s/step - loss: 0.0637 - accuracy: 0.9930 - val_loss: 0.4373 - val_accuracy: 0.8210\n",
            "Epoch 20/20\n",
            "100/100 [==============================] - 278s 3s/step - loss: 0.0605 - accuracy: 0.9950 - val_loss: 0.4386 - val_accuracy: 0.8220\n"
          ]
        }
      ]
    },
    {
      "cell_type": "code",
      "metadata": {
        "id": "J1ILPXKaF2kH"
      },
      "source": [
        "trial = 1\n",
        "model.save_weights(datetime.today().strftime(\"%Y%m%d\")+ '_weights_' +str(epochs) + '_' + str(trial) +'.h5')\n",
        "model.save(datetime.today().strftime(\"%Y%m%d\")+ '_model_'+ str(epochs) + '_' + str(trial) +'.h5')"
      ],
      "execution_count": null,
      "outputs": []
    },
    {
      "cell_type": "code",
      "metadata": {
        "id": "2Y4HHVLdJPLQ",
        "colab": {
          "base_uri": "https://localhost:8080/",
          "height": 314
        },
        "outputId": "f0b39873-cc55-4e8d-d274-7e94b0572336"
      },
      "source": [
        "plt.plot(history.history['loss'], label = 'Loss')\n",
        "plt.plot(history.history['val_loss'], label = 'Val_Loss')\n",
        "plt.plot(history.history['accuracy'], label = 'Accuracy')\n",
        "plt.plot(history.history['val_accuracy'], label = 'Val_Accuracy')\n",
        "plt.legend()\n",
        "plt.grid()\n",
        "plt.title('Model Accuracy')\n",
        "plt.ylabel('Accuracy')\n",
        "plt.xlabel('Epoch')"
      ],
      "execution_count": null,
      "outputs": [
        {
          "output_type": "execute_result",
          "data": {
            "text/plain": [
              "Text(0.5, 0, 'Epoch')"
            ]
          },
          "metadata": {},
          "execution_count": 39
        },
        {
          "output_type": "display_data",
          "data": {
            "image/png": "[encoded data removed]",
            "text/plain": [
              "<Figure size 432x288 with 1 Axes>"
            ]
          },
          "metadata": {
            "needs_background": "light"
          }
        }
      ]
    },
    {
      "cell_type": "code",
      "metadata": {
        "id": "_s4Bis6vF2kH",
        "colab": {
          "base_uri": "https://localhost:8080/",
          "height": 314
        },
        "outputId": "f5683932-f110-42d3-b9b6-a7fecbbfe506"
      },
      "source": [
        "plt.plot(history.history['loss'], label = 'Loss')\n",
        "plt.plot(history.history['val_loss'], label = 'Val_Loss')\n",
        "plt.title('Model Loss')\n",
        "plt.legend()\n",
        "plt.grid()\n",
        "plt.ylabel('Loss')\n",
        "plt.xlabel('Epoch')"
      ],
      "execution_count": null,
      "outputs": [
        {
          "output_type": "execute_result",
          "data": {
            "text/plain": [
              "Text(0.5, 0, 'Epoch')"
            ]
          },
          "metadata": {},
          "execution_count": 40
        },
        {
          "output_type": "display_data",
          "data": {
            "image/png": "[encoded data removed]",
            "text/plain": [
              "<Figure size 432x288 with 1 Axes>"
            ]
          },
          "metadata": {
            "needs_background": "light"
          }
        }
      ]
    },
    {
      "cell_type": "code",
      "metadata": {
        "id": "kHAqBQKwHC35",
        "colab": {
          "base_uri": "https://localhost:8080/",
          "height": 314
        },
        "outputId": "75a54dbc-a4c5-451c-c8db-4c2cb627b91a"
      },
      "source": [
        "plt.plot(history.history['accuracy'], label = 'Accuracy')\n",
        "plt.plot(history.history['val_accuracy'], label = 'Val_Accuracy')\n",
        "plt.title('Model Accuracy')\n",
        "plt.legend()\n",
        "plt.grid()\n",
        "plt.ylabel('Accuracy')\n",
        "plt.xlabel('Epoch')"
      ],
      "execution_count": null,
      "outputs": [
        {
          "output_type": "execute_result",
          "data": {
            "text/plain": [
              "Text(0.5, 0, 'Epoch')"
            ]
          },
          "metadata": {},
          "execution_count": 41
        },
        {
          "output_type": "display_data",
          "data": {
            "image/png": "[encoded data removed]",
            "text/plain": [
              "<Figure size 432x288 with 1 Axes>"
            ]
          },
          "metadata": {
            "needs_background": "light"
          }
        }
      ]
    },
    {
      "cell_type": "code",
      "metadata": {
        "id": "WAv_VXvQF2kH"
      },
      "source": [
        "scores = model.evaluate_generator(validation_generator, steps=5)"
      ],
      "execution_count": null,
      "outputs": []
    },
    {
      "cell_type": "code",
      "metadata": {
        "id": "NMOuq4UVJPLQ",
        "colab": {
          "base_uri": "https://localhost:8080/"
        },
        "outputId": "f5b145a8-227e-4abd-82e7-457261fc7855"
      },
      "source": [
        "print(\"-- Evaluate --\")\n",
        "print(\"%s: %.2f%%\" %(model.metrics_names[1], scores[1]*100))"
      ],
      "execution_count": null,
      "outputs": [
        {
          "output_type": "stream",
          "name": "stdout",
          "text": [
            "-- Evaluate --\n",
            "accuracy: 83.00%\n"
          ]
        }
      ]
    },
    {
      "cell_type": "code",
      "metadata": {
        "id": "-QJXv8vxF2kI",
        "colab": {
          "base_uri": "https://localhost:8080/",
          "height": 418
        },
        "outputId": "4dc9c906-ac73-4989-df2e-43d6b208e5e5"
      },
      "source": [
        "base_model.trainable = True\n",
        "#model.summary()\n",
        "\n",
        "model.compile(Adam(1e-5), loss='categorical_crossentropy', metrics=['accuracy'])\n",
        "\n",
        "epochs = 5\n",
        "history = model.fit(train_generator, epochs=epochs, validation_data=validation_generator)"
      ],
      "execution_count": null,
      "outputs": [
        {
          "output_type": "stream",
          "name": "stdout",
          "text": [
            "Epoch 1/5\n",
            "100/100 [==============================] - 307s 3s/step - loss: 0.0000e+00 - accuracy: 0.5675 - val_loss: 0.0000e+00 - val_accuracy: 0.5920\n",
            "Epoch 2/5\n",
            "100/100 [==============================] - 301s 3s/step - loss: 0.0000e+00 - accuracy: 0.5170 - val_loss: 0.0000e+00 - val_accuracy: 0.5090\n",
            "Epoch 3/5\n",
            "100/100 [==============================] - 303s 3s/step - loss: 0.0000e+00 - accuracy: 0.5185 - val_loss: 0.0000e+00 - val_accuracy: 0.5010\n",
            "Epoch 4/5\n",
            "100/100 [==============================] - 316s 3s/step - loss: 0.0000e+00 - accuracy: 0.5270 - val_loss: 0.0000e+00 - val_accuracy: 0.5050\n",
            "Epoch 5/5\n",
            "100/100 [==============================] - 316s 3s/step - loss: 0.0000e+00 - accuracy: 0.5960 - val_loss: 0.0000e+00 - val_accuracy: 0.5550\n"
          ]
        },
        {
          "output_type": "error",
          "ename": "NameError",
          "evalue": "ignored",
          "traceback": [
            "\u001b[0;31m---------------------------------------------------------------------------\u001b[0m",
            "\u001b[0;31mNameError\u001b[0m                                 Traceback (most recent call last)",
            "\u001b[0;32m<ipython-input-44-9357c8a55038>\u001b[0m in \u001b[0;36m<module>\u001b[0;34m()\u001b[0m\n\u001b[1;32m      7\u001b[0m \u001b[0mhistory\u001b[0m \u001b[0;34m=\u001b[0m \u001b[0mmodel\u001b[0m\u001b[0;34m.\u001b[0m\u001b[0mfit\u001b[0m\u001b[0;34m(\u001b[0m\u001b[0mtrain_generator\u001b[0m\u001b[0;34m,\u001b[0m \u001b[0mepochs\u001b[0m\u001b[0;34m=\u001b[0m\u001b[0mepochs\u001b[0m\u001b[0;34m,\u001b[0m \u001b[0mvalidation_data\u001b[0m\u001b[0;34m=\u001b[0m\u001b[0mvalidation_generator\u001b[0m\u001b[0;34m)\u001b[0m\u001b[0;34m\u001b[0m\u001b[0;34m\u001b[0m\u001b[0m\n\u001b[1;32m      8\u001b[0m \u001b[0;31m# model.save_weights(datetime.today().strftime(\"%Y%m%d\")+ '_weights_ft_' +str(epochs) + '_' + str(trial) +'.h5')\u001b[0m\u001b[0;34m\u001b[0m\u001b[0;34m\u001b[0m\u001b[0;34m\u001b[0m\u001b[0m\n\u001b[0;32m----> 9\u001b[0;31m \u001b[0mmodel\u001b[0m\u001b[0;34m.\u001b[0m\u001b[0msave\u001b[0m\u001b[0;34m(\u001b[0m\u001b[0mdatetime\u001b[0m\u001b[0;34m.\u001b[0m\u001b[0mtoday\u001b[0m\u001b[0;34m(\u001b[0m\u001b[0;34m)\u001b[0m\u001b[0;34m.\u001b[0m\u001b[0mstrftime\u001b[0m\u001b[0;34m(\u001b[0m\u001b[0;34m\"%Y%m%d\"\u001b[0m\u001b[0;34m)\u001b[0m\u001b[0;34m+\u001b[0m \u001b[0;34m'_model_ft_'\u001b[0m\u001b[0;34m+\u001b[0m \u001b[0mstr\u001b[0m\u001b[0;34m(\u001b[0m\u001b[0mepochs\u001b[0m\u001b[0;34m)\u001b[0m \u001b[0;34m+\u001b[0m \u001b[0;34m'_'\u001b[0m \u001b[0;34m+\u001b[0m \u001b[0mstr\u001b[0m\u001b[0;34m(\u001b[0m\u001b[0mtrial\u001b[0m\u001b[0;34m)\u001b[0m \u001b[0;34m+\u001b[0m\u001b[0;34m'.h5'\u001b[0m\u001b[0;34m)\u001b[0m\u001b[0;34m\u001b[0m\u001b[0;34m\u001b[0m\u001b[0m\n\u001b[0m",
            "\u001b[0;31mNameError\u001b[0m: name 'trial' is not defined"
          ]
        }
      ]
    },
    {
      "cell_type": "code",
      "metadata": {
        "id": "04BA3UeYF2kI",
        "colab": {
          "base_uri": "https://localhost:8080/",
          "height": 314
        },
        "outputId": "77f2b873-7faf-49fd-f2f5-bc0e053a97df"
      },
      "source": [
        "plt.plot(history.history['loss'], label = 'Loss')\n",
        "plt.plot(history.history['val_loss'], label = 'Val_Loss')\n",
        "plt.plot(history.history['accuracy'], label = 'Accuracy')\n",
        "plt.plot(history.history['val_accuracy'], label = 'Val_Accuracy')\n",
        "plt.legend()\n",
        "plt.grid()\n",
        "plt.title('Model Accuracy')\n",
        "plt.ylabel('Accuracy')\n",
        "plt.xlabel('Epoch')"
      ],
      "execution_count": null,
      "outputs": [
        {
          "output_type": "execute_result",
          "data": {
            "text/plain": [
              "Text(0.5, 0, 'Epoch')"
            ]
          },
          "metadata": {},
          "execution_count": 45
        },
        {
          "output_type": "display_data",
          "data": {
            "image/png": "[encoded data removed]",
            "text/plain": [
              "<Figure size 432x288 with 1 Axes>"
            ]
          },
          "metadata": {
            "needs_background": "light"
          }
        }
      ]
    },
    {
      "cell_type": "code",
      "metadata": {
        "id": "uECeqTulF2kI",
        "colab": {
          "base_uri": "https://localhost:8080/",
          "height": 314
        },
        "outputId": "2db5afa6-aeaa-4ca7-ac5b-9d0311faec2c"
      },
      "source": [
        "plt.plot(history.history['loss'], label = 'Loss')\n",
        "plt.plot(history.history['val_loss'], label = 'Val_Loss')\n",
        "plt.title('Model Loss')\n",
        "plt.legend()\n",
        "plt.grid()\n",
        "plt.ylabel('Loss')\n",
        "plt.xlabel('Epoch')"
      ],
      "execution_count": null,
      "outputs": [
        {
          "output_type": "execute_result",
          "data": {
            "text/plain": [
              "Text(0.5, 0, 'Epoch')"
            ]
          },
          "metadata": {},
          "execution_count": 46
        },
        {
          "output_type": "display_data",
          "data": {
            "image/png": "[encoded data removed]",
            "text/plain": [
              "<Figure size 432x288 with 1 Axes>"
            ]
          },
          "metadata": {
            "needs_background": "light"
          }
        }
      ]
    },
    {
      "cell_type": "code",
      "metadata": {
        "id": "Sk9UdkYwF2kI",
        "colab": {
          "base_uri": "https://localhost:8080/",
          "height": 314
        },
        "outputId": "c5dd2db7-64aa-4d81-c825-1c8cd88b6496"
      },
      "source": [
        "plt.plot(history.history['accuracy'], label = 'Accuracy')\n",
        "plt.plot(history.history['val_accuracy'], label = 'Val_Accuracy')\n",
        "plt.title('Model Accuracy')\n",
        "plt.legend()\n",
        "plt.grid()\n",
        "plt.ylabel('Accuracy')\n",
        "plt.xlabel('Epoch')"
      ],
      "execution_count": null,
      "outputs": [
        {
          "output_type": "execute_result",
          "data": {
            "text/plain": [
              "Text(0.5, 0, 'Epoch')"
            ]
          },
          "metadata": {},
          "execution_count": 47
        },
        {
          "output_type": "display_data",
          "data": {
            "image/png": "[encoded data removed]",
            "text/plain": [
              "<Figure size 432x288 with 1 Axes>"
            ]
          },
          "metadata": {
            "needs_background": "light"
          }
        }
      ]
    },
    {
      "cell_type": "code",
      "metadata": {
        "id": "bvUZt5NsF2kJ"
      },
      "source": [
        "scores = model.evaluate_generator(validation_generator, steps=5)"
      ],
      "execution_count": null,
      "outputs": []
    },
    {
      "cell_type": "code",
      "metadata": {
        "id": "r3EMxiFeF2kJ",
        "colab": {
          "base_uri": "https://localhost:8080/"
        },
        "outputId": "98cfae04-4ad0-48e2-ac2e-71c5bf63e20b"
      },
      "source": [
        "print(\"-- Evaluate --\")\n",
        "print(\"%s: %.2f%%\" %(model.metrics_names[1], scores[1]*100))"
      ],
      "execution_count": null,
      "outputs": [
        {
          "output_type": "stream",
          "name": "stdout",
          "text": [
            "-- Evaluate --\n",
            "accuracy: 53.00%\n"
          ]
        }
      ]
    }
  ]
}