{
 "cells": [
  {
   "cell_type": "code",
   "execution_count": 1,
   "id": "b6fb6540-c431-470d-8880-79f47be5b3c1",
   "metadata": {},
   "outputs": [],
   "source": [
    "import tensorflow\n",
    "from tensorflow.keras.datasets import imdb"
   ]
  },
  {
   "cell_type": "markdown",
   "id": "5a05090b-2c17-4b73-bb7f-4ad962525a1e",
   "metadata": {},
   "source": [
    "데이터 불러오기"
   ]
  },
  {
   "cell_type": "code",
   "execution_count": 2,
   "id": "4d65435b-a67e-41bb-8096-665411bfec17",
   "metadata": {},
   "outputs": [],
   "source": [
    "(train_data, train_labels), (test_data, test_lables) = imdb.load_data(num_words=10000)"
   ]
  },
  {
   "cell_type": "code",
   "execution_count": 3,
   "id": "a1af218b-e156-4bef-b0dc-8a9f88bfdb27",
   "metadata": {},
   "outputs": [
    {
     "data": {
      "text/plain": [
       "9999"
      ]
     },
     "execution_count": 3,
     "metadata": {},
     "output_type": "execute_result"
    }
   ],
   "source": [
    "max([max(sequence) for sequence in train_data])"
   ]
  },
  {
   "cell_type": "markdown",
   "id": "51494e2d-1246-49d7-ab43-e8c8848a013c",
   "metadata": {},
   "source": [
    "직접 원핫인코딩 하기"
   ]
  },
  {
   "cell_type": "code",
   "execution_count": 4,
   "id": "02dce854-4d3c-4f9f-a16c-a6676fa59108",
   "metadata": {},
   "outputs": [],
   "source": [
    "import numpy as np\n",
    "def vectorize_sequence(sequences, dimension=10000):\n",
    "    results = np.zeros((len(sequences), dimension))\n",
    "    for i, sequence in enumerate(sequences):\n",
    "        results[i, sequence] = 1\n",
    "    return results\n",
    "\n",
    "x_train = vectorize_sequence(train_data)\n",
    "x_test = vectorize_sequence(test_data)\n",
    "y_train = np.asarray(train_labels).astype('float32')\n",
    "y_test = np.asarray(train_labels).astype('float32')"
   ]
  },
  {
   "cell_type": "code",
   "execution_count": 5,
   "id": "bc35841a-ecd2-424f-96f6-f01589252281",
   "metadata": {},
   "outputs": [
    {
     "data": {
      "text/plain": [
       "(25000, 10000)"
      ]
     },
     "execution_count": 5,
     "metadata": {},
     "output_type": "execute_result"
    }
   ],
   "source": [
    "x_train.shape"
   ]
  },
  {
   "cell_type": "markdown",
   "id": "b1084f43-703b-4d62-9fa2-01ed3a71cb47",
   "metadata": {},
   "source": [
    "모델 구성하기"
   ]
  },
  {
   "cell_type": "code",
   "execution_count": 6,
   "id": "9056af96-bf51-4a1e-92fb-991b42b498ba",
   "metadata": {},
   "outputs": [],
   "source": [
    "from tensorflow.keras import models, layers, Sequential\n",
    "\n",
    "model = models.Sequential()\n",
    "model.add(layers.Dense(16, activation = 'relu', input_shape=(10000,)))\n",
    "model.add(layers.Dense(16, activation = 'relu'))\n",
    "model.add(layers.Dense(1, activation = 'sigmoid'))\n",
    "\n",
    "# model.summary()"
   ]
  },
  {
   "cell_type": "markdown",
   "id": "3f6fca41-da21-4974-a8d7-e220c8f32997",
   "metadata": {},
   "source": [
    "모델 컴파일 하기"
   ]
  },
  {
   "cell_type": "code",
   "execution_count": 7,
   "id": "7b804425-9874-4bd0-b1fd-61283960b60a",
   "metadata": {},
   "outputs": [],
   "source": [
    "model.compile(optimizer = 'rmsprop', \n",
    "              loss = 'binary_crossentropy', \n",
    "              metrics = ['accuracy'])"
   ]
  },
  {
   "cell_type": "markdown",
   "id": "c97fe1b7-4b06-4e6b-a2d6-f290a28be929",
   "metadata": {},
   "source": [
    "validation set 설정"
   ]
  },
  {
   "cell_type": "code",
   "execution_count": 8,
   "id": "daf24e0c-076a-4b47-a7a7-c29d6d22945f",
   "metadata": {},
   "outputs": [],
   "source": [
    "x_val = x_train[:10000]\n",
    "partial_x_train = x_train[10000:]\n",
    "y_val = y_train[:10000]\n",
    "partial_y_train = y_train[10000:]"
   ]
  },
  {
   "cell_type": "markdown",
   "id": "2d4c02aa-029c-4836-ba32-fd1b4d90e806",
   "metadata": {},
   "source": [
    "훈련"
   ]
  },
  {
   "cell_type": "code",
   "execution_count": 9,
   "id": "aaf67574-d6e1-4a1d-8719-c3448ab8cdad",
   "metadata": {
    "scrolled": true,
    "tags": []
   },
   "outputs": [
    {
     "name": "stdout",
     "output_type": "stream",
     "text": [
      "Epoch 1/20\n",
      "30/30 [==============================] - 1s 33ms/step - loss: 0.5066 - accuracy: 0.7995 - val_loss: 0.3839 - val_accuracy: 0.8666\n",
      "Epoch 2/20\n",
      "30/30 [==============================] - 1s 17ms/step - loss: 0.2997 - accuracy: 0.9037 - val_loss: 0.3039 - val_accuracy: 0.8870\n",
      "Epoch 3/20\n",
      "30/30 [==============================] - 1s 17ms/step - loss: 0.2233 - accuracy: 0.9278 - val_loss: 0.2894 - val_accuracy: 0.8856\n",
      "Epoch 4/20\n",
      "30/30 [==============================] - 1s 17ms/step - loss: 0.1766 - accuracy: 0.9441 - val_loss: 0.2900 - val_accuracy: 0.8831\n",
      "Epoch 5/20\n",
      "30/30 [==============================] - 1s 17ms/step - loss: 0.1467 - accuracy: 0.9529 - val_loss: 0.2818 - val_accuracy: 0.8858\n",
      "Epoch 6/20\n",
      "30/30 [==============================] - 1s 18ms/step - loss: 0.1183 - accuracy: 0.9645 - val_loss: 0.3196 - val_accuracy: 0.8763\n",
      "Epoch 7/20\n",
      "30/30 [==============================] - 1s 18ms/step - loss: 0.0987 - accuracy: 0.9707 - val_loss: 0.3057 - val_accuracy: 0.8829\n",
      "Epoch 8/20\n",
      "30/30 [==============================] - 1s 17ms/step - loss: 0.0800 - accuracy: 0.9791 - val_loss: 0.3315 - val_accuracy: 0.8793\n",
      "Epoch 9/20\n",
      "30/30 [==============================] - 1s 18ms/step - loss: 0.0635 - accuracy: 0.9838 - val_loss: 0.3812 - val_accuracy: 0.8693\n",
      "Epoch 10/20\n",
      "30/30 [==============================] - 1s 17ms/step - loss: 0.0518 - accuracy: 0.9891 - val_loss: 0.3660 - val_accuracy: 0.8781\n",
      "Epoch 11/20\n",
      "30/30 [==============================] - 0s 16ms/step - loss: 0.0425 - accuracy: 0.9905 - val_loss: 0.3940 - val_accuracy: 0.8758\n",
      "Epoch 12/20\n",
      "30/30 [==============================] - 0s 16ms/step - loss: 0.0316 - accuracy: 0.9937 - val_loss: 0.4213 - val_accuracy: 0.8750\n",
      "Epoch 13/20\n",
      "30/30 [==============================] - 1s 17ms/step - loss: 0.0255 - accuracy: 0.9954 - val_loss: 0.4521 - val_accuracy: 0.8745\n",
      "Epoch 14/20\n",
      "30/30 [==============================] - 1s 17ms/step - loss: 0.0192 - accuracy: 0.9968 - val_loss: 0.4821 - val_accuracy: 0.8733\n",
      "Epoch 15/20\n",
      "30/30 [==============================] - 0s 17ms/step - loss: 0.0160 - accuracy: 0.9981 - val_loss: 0.5093 - val_accuracy: 0.8720\n",
      "Epoch 16/20\n",
      "30/30 [==============================] - 1s 17ms/step - loss: 0.0116 - accuracy: 0.9988 - val_loss: 0.5426 - val_accuracy: 0.8685\n",
      "Epoch 17/20\n",
      "30/30 [==============================] - 0s 16ms/step - loss: 0.0067 - accuracy: 0.9998 - val_loss: 0.5793 - val_accuracy: 0.8694\n",
      "Epoch 18/20\n",
      "30/30 [==============================] - 0s 17ms/step - loss: 0.0080 - accuracy: 0.9989 - val_loss: 0.6092 - val_accuracy: 0.8674\n",
      "Epoch 19/20\n",
      "30/30 [==============================] - 0s 16ms/step - loss: 0.0037 - accuracy: 0.9999 - val_loss: 0.6497 - val_accuracy: 0.8659\n",
      "Epoch 20/20\n",
      "30/30 [==============================] - 0s 15ms/step - loss: 0.0045 - accuracy: 0.9994 - val_loss: 0.6839 - val_accuracy: 0.8651\n"
     ]
    }
   ],
   "source": [
    "history = model.fit(partial_x_train,\n",
    "                   partial_y_train,\n",
    "                   epochs = 20,\n",
    "                   batch_size = 512,\n",
    "                   validation_data = (x_val, y_val))"
   ]
  },
  {
   "cell_type": "markdown",
   "id": "f0a730ba-f073-4892-9d29-f60a644ea653",
   "metadata": {},
   "source": [
    "결과 시각화"
   ]
  },
  {
   "cell_type": "code",
   "execution_count": 10,
   "id": "9812f352-4eee-458e-be8c-92353e9c0b74",
   "metadata": {},
   "outputs": [
    {
     "data": {
      "text/plain": [
       "dict_keys(['loss', 'accuracy', 'val_loss', 'val_accuracy'])"
      ]
     },
     "execution_count": 10,
     "metadata": {},
     "output_type": "execute_result"
    }
   ],
   "source": [
    "history_dict = history.history\n",
    "history_dict.keys()"
   ]
  },
  {
   "cell_type": "markdown",
   "id": "890c66ef-0cd9-4f4e-a587-8d5c3fca4768",
   "metadata": {},
   "source": [
    "### 과적합 방지를 위해 regularizer를 추가해서 학습"
   ]
  },
  {
   "cell_type": "code",
   "execution_count": 14,
   "id": "8e60e484-14a9-418e-a6d6-159e67eecf80",
   "metadata": {
    "scrolled": true,
    "tags": []
   },
   "outputs": [
    {
     "name": "stdout",
     "output_type": "stream",
     "text": [
      "Epoch 1/20\n",
      "49/49 [==============================] - 1s 21ms/step - loss: 0.4913 - accuracy: 0.8284 - val_loss: 0.3422 - val_accuracy: 0.9026\n",
      "Epoch 2/20\n",
      "49/49 [==============================] - 1s 16ms/step - loss: 0.3208 - accuracy: 0.9029 - val_loss: 0.2754 - val_accuracy: 0.9213\n",
      "Epoch 3/20\n",
      "49/49 [==============================] - 1s 16ms/step - loss: 0.2747 - accuracy: 0.9179 - val_loss: 0.2450 - val_accuracy: 0.9333\n",
      "Epoch 4/20\n",
      "49/49 [==============================] - 1s 16ms/step - loss: 0.2577 - accuracy: 0.9249 - val_loss: 0.2197 - val_accuracy: 0.9505\n",
      "Epoch 5/20\n",
      "49/49 [==============================] - 1s 16ms/step - loss: 0.2412 - accuracy: 0.9339 - val_loss: 0.2170 - val_accuracy: 0.9472\n",
      "Epoch 6/20\n",
      "49/49 [==============================] - 1s 17ms/step - loss: 0.2363 - accuracy: 0.9345 - val_loss: 0.2023 - val_accuracy: 0.9557\n",
      "Epoch 7/20\n",
      "49/49 [==============================] - 1s 18ms/step - loss: 0.2274 - accuracy: 0.9394 - val_loss: 0.2041 - val_accuracy: 0.9513\n",
      "Epoch 8/20\n",
      "49/49 [==============================] - 1s 17ms/step - loss: 0.2247 - accuracy: 0.9395 - val_loss: 0.2050 - val_accuracy: 0.9505\n",
      "Epoch 9/20\n",
      "49/49 [==============================] - 1s 16ms/step - loss: 0.2189 - accuracy: 0.9412 - val_loss: 0.1853 - val_accuracy: 0.9615\n",
      "Epoch 10/20\n",
      "49/49 [==============================] - 1s 16ms/step - loss: 0.2165 - accuracy: 0.9421 - val_loss: 0.1845 - val_accuracy: 0.9606\n",
      "Epoch 11/20\n",
      "49/49 [==============================] - 1s 17ms/step - loss: 0.2124 - accuracy: 0.9435 - val_loss: 0.1979 - val_accuracy: 0.9504\n",
      "Epoch 12/20\n",
      "49/49 [==============================] - 1s 16ms/step - loss: 0.2062 - accuracy: 0.9456 - val_loss: 0.1793 - val_accuracy: 0.9626\n",
      "Epoch 13/20\n",
      "49/49 [==============================] - 1s 17ms/step - loss: 0.2068 - accuracy: 0.9452 - val_loss: 0.1723 - val_accuracy: 0.9660\n",
      "Epoch 14/20\n",
      "49/49 [==============================] - 1s 17ms/step - loss: 0.2030 - accuracy: 0.9471 - val_loss: 0.1676 - val_accuracy: 0.9669\n",
      "Epoch 15/20\n",
      "49/49 [==============================] - 1s 17ms/step - loss: 0.2012 - accuracy: 0.9483 - val_loss: 0.1741 - val_accuracy: 0.9638\n",
      "Epoch 16/20\n",
      "49/49 [==============================] - 1s 17ms/step - loss: 0.2013 - accuracy: 0.9471 - val_loss: 0.1654 - val_accuracy: 0.9676\n",
      "Epoch 17/20\n",
      "49/49 [==============================] - 1s 17ms/step - loss: 0.1967 - accuracy: 0.9502 - val_loss: 0.2356 - val_accuracy: 0.9218\n",
      "Epoch 18/20\n",
      "49/49 [==============================] - 1s 17ms/step - loss: 0.1951 - accuracy: 0.9501 - val_loss: 0.1574 - val_accuracy: 0.9731\n",
      "Epoch 19/20\n",
      "49/49 [==============================] - 1s 16ms/step - loss: 0.1873 - accuracy: 0.9540 - val_loss: 0.1595 - val_accuracy: 0.9707\n",
      "Epoch 20/20\n",
      "49/49 [==============================] - 1s 15ms/step - loss: 0.1848 - accuracy: 0.9544 - val_loss: 0.2352 - val_accuracy: 0.9210\n"
     ]
    }
   ],
   "source": [
    "from tensorflow.keras import regularizers\n",
    "\n",
    "model = models.Sequential()\n",
    "model.add(layers.Dense(16, kernel_regularizer = regularizers.l2(0.001), activation = 'relu', input_shape = (10000,)))\n",
    "model.add(layers.Dense(16, kernel_regularizer = regularizers.l2(0.001), activation = 'relu'))\n",
    "model.add(layers.Dense(1, activation = 'sigmoid'))\n",
    "\n",
    "model.compile(optimizer = 'rmsprop', \n",
    "              loss = 'binary_crossentropy', \n",
    "              metrics = ['accuracy'])\n",
    "\n",
    "regularizer_history = model.fit(x_train,\n",
    "                   y_train,\n",
    "                   epochs = 20,\n",
    "                   batch_size = 512,\n",
    "                    validation_data = (x_val, y_val))\n"
   ]
  },
  {
   "cell_type": "markdown",
   "id": "39ccea98-a225-403c-a842-ed7b9403a5ea",
   "metadata": {},
   "source": [
    "### L2 가중치 규제가 모델에 끼치는 영향"
   ]
  },
  {
   "cell_type": "code",
   "execution_count": 15,
   "id": "5d650790-c6ab-438a-9385-7b9bc640b656",
   "metadata": {},
   "outputs": [
    {
     "data": {
      "image/png": "[encoded data removed]",
      "text/plain": [
       "<Figure size 432x288 with 1 Axes>"
      ]
     },
     "metadata": {
      "needs_background": "light"
     },
     "output_type": "display_data"
    }
   ],
   "source": [
    "import matplotlib.pyplot as plt\n",
    "\n",
    "history_dict = history.history\n",
    "loss = history_dict['loss']\n",
    "val_loss = history_dict['val_loss']\n",
    "\n",
    "regularizer_history_dict = regularizer_history.history\n",
    "regularizer_loss = regularizer_history_dict['loss']\n",
    "regularizer_val_loss = regularizer_history_dict['val_loss']\n",
    "\n",
    "epochs = range(1, len(loss) + 1)\n",
    "\n",
    "plt.plot(epochs, loss, 'bo', label = 'Training loss')\n",
    "plt.plot(epochs, val_loss, 'b', label = 'Validation loss')\n",
    "\n",
    "plt.plot(epochs, regularizer_loss, 'ro', label = 'regularizer_Training loss')\n",
    "plt.plot(epochs, regularizer_val_loss, 'r', label = 'regularizer_Validation loss')\n",
    "\n",
    "plt.title('Training and validation loss')\n",
    "plt.xlabel('Epochs')\n",
    "plt.ylabel('Loss')\n",
    "plt.legend()\n",
    "plt.show()"
   ]
  },
  {
   "cell_type": "code",
   "execution_count": 16,
   "id": "7794307c-b7f5-4470-ad56-95ea2181e7b4",
   "metadata": {
    "tags": []
   },
   "outputs": [
    {
     "data": {
      "image/png": "[encoded data removed]",
      "text/plain": [
       "<Figure size 432x288 with 1 Axes>"
      ]
     },
     "metadata": {
      "needs_background": "light"
     },
     "output_type": "display_data"
    }
   ],
   "source": [
    "import matplotlib.pyplot as plt\n",
    "\n",
    "history_dict = history.history\n",
    "acc = history_dict['accuracy']\n",
    "val_acc = history_dict['val_accuracy']\n",
    "\n",
    "regularizer_history_dict = regularizer_history.history\n",
    "regularizer_acc = regularizer_history_dict['accuracy']\n",
    "regularizer_val_acc = regularizer_history_dict['val_accuracy']\n",
    "\n",
    "epochs = range(1, len(loss) + 1)\n",
    "\n",
    "plt.plot(epochs, acc, 'bo', label = 'Training acc')\n",
    "plt.plot(epochs, val_acc, 'b', label = 'Validation acc')\n",
    "\n",
    "plt.plot(epochs, regularizer_acc, 'ro', label = 'regularizer_Training acc')\n",
    "plt.plot(epochs, regularizer_val_acc, 'r', label = 'regularizer_Validation acc')\n",
    "\n",
    "plt.title('Training and validation loss')\n",
    "plt.xlabel('Epochs')\n",
    "plt.ylabel('Loss')\n",
    "plt.legend()\n",
    "plt.show()"
   ]
  },
  {
   "cell_type": "code",
   "execution_count": null,
   "id": "ec3d3140-0a32-4a68-9d16-7eed7050ad00",
   "metadata": {},
   "outputs": [],
   "source": []
  }
 ],
 "metadata": {
  "kernelspec": {
   "display_name": "Python 3 (ipykernel)",
   "language": "python",
   "name": "python3"
  },
  "language_info": {
   "codemirror_mode": {
    "name": "ipython",
    "version": 3
   },
   "file_extension": ".py",
   "mimetype": "text/x-python",
   "name": "python",
   "nbconvert_exporter": "python",
   "pygments_lexer": "ipython3",
   "version": "3.7.0"
  }
 },
 "nbformat": 4,
 "nbformat_minor": 5
}
