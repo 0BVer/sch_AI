{
 "cells": [
  {
   "cell_type": "code",
   "execution_count": 1,
   "id": "b6fb6540-c431-470d-8880-79f47be5b3c1",
   "metadata": {},
   "outputs": [],
   "source": [
    "import tensorflow\n",
    "from tensorflow.keras.datasets import imdb"
   ]
  },
  {
   "cell_type": "markdown",
   "id": "5a05090b-2c17-4b73-bb7f-4ad962525a1e",
   "metadata": {},
   "source": [
    "데이터 불러오기"
   ]
  },
  {
   "cell_type": "code",
   "execution_count": 2,
   "id": "4d65435b-a67e-41bb-8096-665411bfec17",
   "metadata": {},
   "outputs": [],
   "source": [
    "(train_data, train_labels), (test_data, test_lables) = imdb.load_data(num_words=10000)"
   ]
  },
  {
   "cell_type": "code",
   "execution_count": 3,
   "id": "a1af218b-e156-4bef-b0dc-8a9f88bfdb27",
   "metadata": {},
   "outputs": [
    {
     "data": {
      "text/plain": [
       "9999"
      ]
     },
     "execution_count": 3,
     "metadata": {},
     "output_type": "execute_result"
    }
   ],
   "source": [
    "max([max(sequence) for sequence in train_data])"
   ]
  },
  {
   "cell_type": "markdown",
   "id": "b34e5536-3d0a-4b78-aa57-a9b174ab8096",
   "metadata": {},
   "source": [
    "인코딩 된 데이터 디코딩 하기"
   ]
  },
  {
   "cell_type": "code",
   "execution_count": 4,
   "id": "6bc5d68f-db65-465a-836d-87d188878844",
   "metadata": {},
   "outputs": [],
   "source": [
    "# word_index = imdb.get_word_index()\n",
    "# reverse_word_index = dict([(value, key) for (key, value) in word_index.items()])\n",
    "# decoded_review = ' '.join([reverse_word_index.get(i - 3, '?') for i in train_data[0]])"
   ]
  },
  {
   "cell_type": "code",
   "execution_count": 5,
   "id": "1a62e423-e562-448a-8d65-04e24cc548a1",
   "metadata": {},
   "outputs": [],
   "source": [
    "# decoded_review"
   ]
  },
  {
   "cell_type": "markdown",
   "id": "51494e2d-1246-49d7-ab43-e8c8848a013c",
   "metadata": {},
   "source": [
    "직접 원핫인코딩 하기"
   ]
  },
  {
   "cell_type": "code",
   "execution_count": 13,
   "id": "02dce854-4d3c-4f9f-a16c-a6676fa59108",
   "metadata": {},
   "outputs": [],
   "source": [
    "import numpy as np\n",
    "def vectorize_sequence(sequences, dimension=10000):\n",
    "    results = np.zeros((len(sequences), dimension))\n",
    "    for i, sequence in enumerate(sequences):\n",
    "        results[i, sequence] = 1\n",
    "    return results\n",
    "\n",
    "x_train = vectorize_sequence(train_data)\n",
    "x_test = vectorize_sequence(test_data)\n",
    "y_train = np.asarray(train_labels).astype('float32')\n",
    "y_test = np.asarray(train_labels).astype('float32')"
   ]
  },
  {
   "cell_type": "code",
   "execution_count": 14,
   "id": "bc35841a-ecd2-424f-96f6-f01589252281",
   "metadata": {},
   "outputs": [
    {
     "data": {
      "text/plain": [
       "(25000, 10000)"
      ]
     },
     "execution_count": 14,
     "metadata": {},
     "output_type": "execute_result"
    }
   ],
   "source": [
    "x_train.shape"
   ]
  },
  {
   "cell_type": "markdown",
   "id": "b1084f43-703b-4d62-9fa2-01ed3a71cb47",
   "metadata": {},
   "source": [
    "모델 구성하기"
   ]
  },
  {
   "cell_type": "code",
   "execution_count": 15,
   "id": "9056af96-bf51-4a1e-92fb-991b42b498ba",
   "metadata": {},
   "outputs": [],
   "source": [
    "from tensorflow.keras import models, layers, Sequential\n",
    "\n",
    "model = models.Sequential()\n",
    "model.add(layers.Dense(16, activation = 'relu', input_shape=(10000,)))\n",
    "model.add(layers.Dense(16, activation = 'relu'))\n",
    "model.add(layers.Dense(1, activation = 'sigmoid'))\n",
    "\n",
    "# model.summary()"
   ]
  },
  {
   "cell_type": "markdown",
   "id": "3f6fca41-da21-4974-a8d7-e220c8f32997",
   "metadata": {},
   "source": [
    "모델 컴파일 하기"
   ]
  },
  {
   "cell_type": "code",
   "execution_count": 16,
   "id": "7b804425-9874-4bd0-b1fd-61283960b60a",
   "metadata": {},
   "outputs": [],
   "source": [
    "model.compile(optimizer = 'rmsprop', \n",
    "              loss = 'binary_crossentropy', \n",
    "              metrics = ['accuracy'])"
   ]
  },
  {
   "cell_type": "markdown",
   "id": "0710e957-9bd6-4178-8ad8-c4797ae0aba9",
   "metadata": {},
   "source": [
    "옵티마이저, 손실, 측정함수 직접 설정하기"
   ]
  },
  {
   "cell_type": "code",
   "execution_count": 17,
   "id": "577d82e1-8b92-4578-87dd-e2b4d97e32e1",
   "metadata": {},
   "outputs": [],
   "source": [
    "# from tensorflow.keras import optimizers, losses, metrics\n",
    "\n",
    "# model.compile(optimizer = optimizers.RMSprop(lr=0.001),\n",
    "#               loss = losses.binary_crossentropy, \n",
    "#               metrics = [metrics.binary_accuracy])"
   ]
  },
  {
   "cell_type": "markdown",
   "id": "c97fe1b7-4b06-4e6b-a2d6-f290a28be929",
   "metadata": {},
   "source": [
    "validation set 설정"
   ]
  },
  {
   "cell_type": "code",
   "execution_count": 18,
   "id": "daf24e0c-076a-4b47-a7a7-c29d6d22945f",
   "metadata": {},
   "outputs": [],
   "source": [
    "x_val = x_train[:10000]\n",
    "partial_x_train = x_train[10000:]\n",
    "y_val = y_train[:10000]\n",
    "partial_y_train = y_train[10000:]"
   ]
  },
  {
   "cell_type": "markdown",
   "id": "2d4c02aa-029c-4836-ba32-fd1b4d90e806",
   "metadata": {},
   "source": [
    "훈련"
   ]
  },
  {
   "cell_type": "code",
   "execution_count": 19,
   "id": "aaf67574-d6e1-4a1d-8719-c3448ab8cdad",
   "metadata": {
    "scrolled": true,
    "tags": []
   },
   "outputs": [
    {
     "name": "stdout",
     "output_type": "stream",
     "text": [
      "Epoch 1/20\n",
      "30/30 [==============================] - 1s 25ms/step - loss: 0.5217 - accuracy: 0.7777 - val_loss: 0.3886 - val_accuracy: 0.8708\n",
      "Epoch 2/20\n",
      "30/30 [==============================] - 0s 16ms/step - loss: 0.3104 - accuracy: 0.8997 - val_loss: 0.3142 - val_accuracy: 0.8805\n",
      "Epoch 3/20\n",
      "30/30 [==============================] - 0s 16ms/step - loss: 0.2246 - accuracy: 0.9299 - val_loss: 0.2876 - val_accuracy: 0.8878\n",
      "Epoch 4/20\n",
      "30/30 [==============================] - 0s 16ms/step - loss: 0.1766 - accuracy: 0.9437 - val_loss: 0.2741 - val_accuracy: 0.8916\n",
      "Epoch 5/20\n",
      "30/30 [==============================] - 0s 16ms/step - loss: 0.1422 - accuracy: 0.9549 - val_loss: 0.2830 - val_accuracy: 0.8874\n",
      "Epoch 6/20\n",
      "30/30 [==============================] - 0s 16ms/step - loss: 0.1179 - accuracy: 0.9639 - val_loss: 0.3022 - val_accuracy: 0.8822\n",
      "Epoch 7/20\n",
      "30/30 [==============================] - 0s 16ms/step - loss: 0.0993 - accuracy: 0.9711 - val_loss: 0.3122 - val_accuracy: 0.8840\n",
      "Epoch 8/20\n",
      "30/30 [==============================] - 1s 17ms/step - loss: 0.0814 - accuracy: 0.9773 - val_loss: 0.3323 - val_accuracy: 0.8826\n",
      "Epoch 9/20\n",
      "30/30 [==============================] - 1s 17ms/step - loss: 0.0705 - accuracy: 0.9809 - val_loss: 0.3536 - val_accuracy: 0.8801\n",
      "Epoch 10/20\n",
      "30/30 [==============================] - 1s 17ms/step - loss: 0.0546 - accuracy: 0.9879 - val_loss: 0.4045 - val_accuracy: 0.8745\n",
      "Epoch 11/20\n",
      "30/30 [==============================] - 0s 16ms/step - loss: 0.0455 - accuracy: 0.9901 - val_loss: 0.4007 - val_accuracy: 0.8743\n",
      "Epoch 12/20\n",
      "30/30 [==============================] - 0s 16ms/step - loss: 0.0377 - accuracy: 0.9915 - val_loss: 0.4824 - val_accuracy: 0.8680\n",
      "Epoch 13/20\n",
      "30/30 [==============================] - 0s 17ms/step - loss: 0.0301 - accuracy: 0.9949 - val_loss: 0.4578 - val_accuracy: 0.8712\n",
      "Epoch 14/20\n",
      "30/30 [==============================] - 0s 16ms/step - loss: 0.0230 - accuracy: 0.9968 - val_loss: 0.4938 - val_accuracy: 0.8730\n",
      "Epoch 15/20\n",
      "30/30 [==============================] - 0s 16ms/step - loss: 0.0205 - accuracy: 0.9963 - val_loss: 0.5242 - val_accuracy: 0.8721\n",
      "Epoch 16/20\n",
      "30/30 [==============================] - 0s 16ms/step - loss: 0.0126 - accuracy: 0.9987 - val_loss: 0.6433 - val_accuracy: 0.8607\n",
      "Epoch 17/20\n",
      "30/30 [==============================] - 1s 17ms/step - loss: 0.0115 - accuracy: 0.9986 - val_loss: 0.5841 - val_accuracy: 0.8684\n",
      "Epoch 18/20\n",
      "30/30 [==============================] - 0s 16ms/step - loss: 0.0075 - accuracy: 0.9995 - val_loss: 0.6230 - val_accuracy: 0.8648\n",
      "Epoch 19/20\n",
      "30/30 [==============================] - 1s 17ms/step - loss: 0.0085 - accuracy: 0.9985 - val_loss: 0.6590 - val_accuracy: 0.8692\n",
      "Epoch 20/20\n",
      "30/30 [==============================] - 0s 15ms/step - loss: 0.0036 - accuracy: 0.9998 - val_loss: 0.7005 - val_accuracy: 0.8623\n"
     ]
    }
   ],
   "source": [
    "history = model.fit(partial_x_train,\n",
    "                   partial_y_train,\n",
    "                   epochs = 20,\n",
    "                   batch_size = 512,\n",
    "                   validation_data = (x_val, y_val))"
   ]
  },
  {
   "cell_type": "markdown",
   "id": "f0a730ba-f073-4892-9d29-f60a644ea653",
   "metadata": {},
   "source": [
    "결과 시각화"
   ]
  },
  {
   "cell_type": "code",
   "execution_count": 20,
   "id": "9812f352-4eee-458e-be8c-92353e9c0b74",
   "metadata": {},
   "outputs": [
    {
     "data": {
      "text/plain": [
       "dict_keys(['loss', 'accuracy', 'val_loss', 'val_accuracy'])"
      ]
     },
     "execution_count": 20,
     "metadata": {},
     "output_type": "execute_result"
    }
   ],
   "source": [
    "history_dict = history.history\n",
    "history_dict.keys()"
   ]
  },
  {
   "cell_type": "code",
   "execution_count": 23,
   "id": "5d650790-c6ab-438a-9385-7b9bc640b656",
   "metadata": {},
   "outputs": [
    {
     "data": {
      "image/png": "[encoded data removed]",
      "text/plain": [
       "<Figure size 432x288 with 1 Axes>"
      ]
     },
     "metadata": {
      "needs_background": "light"
     },
     "output_type": "display_data"
    }
   ],
   "source": [
    "import matplotlib.pyplot as plt\n",
    "\n",
    "history_dict = history.history\n",
    "loss = history_dict['loss']\n",
    "val_loss = history_dict['val_loss']\n",
    "\n",
    "epochs = range(1, len(loss) + 1)\n",
    "\n",
    "plt.plot(epochs, loss, 'bo', label = 'Training loss')\n",
    "plt.plot(epochs, val_loss, 'b', label = 'Validation loss')\n",
    "plt.title('Training and validation loss')\n",
    "plt.xlabel('Epochs')\n",
    "plt.ylabel('Loss')\n",
    "plt.legend()\n",
    "plt.show()"
   ]
  },
  {
   "cell_type": "code",
   "execution_count": 29,
   "id": "7794307c-b7f5-4470-ad56-95ea2181e7b4",
   "metadata": {},
   "outputs": [
    {
     "data": {
      "image/png": "[encoded data removed]",
      "text/plain": [
       "<Figure size 432x288 with 1 Axes>"
      ]
     },
     "metadata": {
      "needs_background": "light"
     },
     "output_type": "display_data"
    }
   ],
   "source": [
    "import matplotlib.pyplot as plt\n",
    "\n",
    "history_dict = history.history\n",
    "acc = history_dict['accuracy']\n",
    "val_acc = history_dict['val_accuracy']\n",
    "\n",
    "epochs = range(1, len(acc) + 1)\n",
    "\n",
    "plt.plot(epochs, acc, 'bo', label = 'Training acc')\n",
    "plt.plot(epochs, val_acc, 'b', label = 'Validation acc')\n",
    "plt.title('Training and validation acc')\n",
    "plt.xlabel('Epochs')\n",
    "plt.ylabel('Accuracy')\n",
    "plt.legend()\n",
    "plt.show()"
   ]
  },
  {
   "cell_type": "markdown",
   "id": "890c66ef-0cd9-4f4e-a587-8d5c3fca4768",
   "metadata": {},
   "source": [
    "과적합 방지를 위해 epochs 수를 4로 낮추고 처음 부터 학습"
   ]
  },
  {
   "cell_type": "code",
   "execution_count": 35,
   "id": "8e60e484-14a9-418e-a6d6-159e67eecf80",
   "metadata": {},
   "outputs": [
    {
     "name": "stdout",
     "output_type": "stream",
     "text": [
      "Epoch 1/4\n",
      "49/49 [==============================] - 1s 10ms/step - loss: 0.4430 - accuracy: 0.8245\n",
      "Epoch 2/4\n",
      "49/49 [==============================] - 0s 10ms/step - loss: 0.2540 - accuracy: 0.9096\n",
      "Epoch 3/4\n",
      "49/49 [==============================] - 0s 10ms/step - loss: 0.1976 - accuracy: 0.9280\n",
      "Epoch 4/4\n",
      "49/49 [==============================] - 0s 9ms/step - loss: 0.1670 - accuracy: 0.9403\n"
     ]
    }
   ],
   "source": [
    "model = models.Sequential()\n",
    "model.add(layers.Dense(16, activation = 'relu', input_shape=(10000,)))\n",
    "model.add(layers.Dense(16, activation = 'relu'))\n",
    "model.add(layers.Dense(1, activation = 'sigmoid'))\n",
    "\n",
    "model.compile(optimizer = 'rmsprop', \n",
    "              loss = 'binary_crossentropy', \n",
    "              metrics = ['accuracy'])\n",
    "\n",
    "history = model.fit(x_train,\n",
    "                   y_train,\n",
    "                   epochs = 4,\n",
    "                   batch_size = 512)\n"
   ]
  },
  {
   "cell_type": "markdown",
   "id": "447012d3-e4de-4a09-984c-e0f4c911f953",
   "metadata": {},
   "source": [
    "testset 활용하여 모델 정확도 측정"
   ]
  },
  {
   "cell_type": "code",
   "execution_count": 36,
   "id": "dc723892-9cac-412a-b98c-6b0380574c76",
   "metadata": {},
   "outputs": [
    {
     "name": "stdout",
     "output_type": "stream",
     "text": [
      "782/782 [==============================] - 1s 1ms/step - loss: 1.9832 - accuracy: 0.5010\n"
     ]
    },
    {
     "data": {
      "text/plain": [
       "[1.9831743240356445, 0.5009999871253967]"
      ]
     },
     "execution_count": 36,
     "metadata": {},
     "output_type": "execute_result"
    }
   ],
   "source": [
    "results = model.evaluate(x_test, y_test)\n",
    "print(results)"
   ]
  },
  {
   "cell_type": "markdown",
   "id": "b90b2e12-462a-4575-8769-adf5487d08fa",
   "metadata": {},
   "source": [
    "predict를 활용하여 실제 데이터에서 적용"
   ]
  },
  {
   "cell_type": "code",
   "execution_count": 32,
   "id": "fcda4ee0-5337-4664-934f-64cec911eae9",
   "metadata": {},
   "outputs": [
    {
     "data": {
      "text/plain": [
       "array([[0.24337897],\n",
       "       [0.999874  ],\n",
       "       [0.97003525],\n",
       "       ...,\n",
       "       [0.13585363],\n",
       "       [0.10870654],\n",
       "       [0.77440864]], dtype=float32)"
      ]
     },
     "execution_count": 32,
     "metadata": {},
     "output_type": "execute_result"
    }
   ],
   "source": [
    "model.predict(x_test)"
   ]
  },
  {
   "cell_type": "code",
   "execution_count": null,
   "id": "29fbe0d6-c956-4ba4-8e2a-e0041ba93cff",
   "metadata": {},
   "outputs": [],
   "source": []
  }
 ],
 "metadata": {
  "kernelspec": {
   "display_name": "Python 3 (ipykernel)",
   "language": "python",
   "name": "python3"
  },
  "language_info": {
   "codemirror_mode": {
    "name": "ipython",
    "version": 3
   },
   "file_extension": ".py",
   "mimetype": "text/x-python",
   "name": "python",
   "nbconvert_exporter": "python",
   "pygments_lexer": "ipython3",
   "version": "3.7.0"
  }
 },
 "nbformat": 4,
 "nbformat_minor": 5
}
